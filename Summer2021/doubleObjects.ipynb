{
 "cells": [
  {
   "cell_type": "code",
   "execution_count": 7,
   "id": "8b508a00",
   "metadata": {},
   "outputs": [],
   "source": [
    "##Preable\n",
    "from __future__ import division\n",
    "import numpy as np\n",
    "import matplotlib.pyplot as plt\n",
    "from matplotlib import gridspec\n",
    "import copy\n",
    "import pickle\n",
    "\n",
    "from EightBitTransit.cTransitingImage import TransitingImage\n",
    "from EightBitTransit.inversion import *\n",
    "from EightBitTransit.misc import *\n",
    "\n",
    "%matplotlib inline"
   ]
  },
  {
   "cell_type": "code",
   "execution_count": 8,
   "id": "96ba436b",
   "metadata": {},
   "outputs": [],
   "source": [
    "def fillShape(grid,points):\n",
    "    ##This function takes a list of lists points and returns a grid with the shape bound by said points filled in.\n",
    "    ##Points in the sublists are connected in the order they are given\n",
    "    ##Sublists are not connected to each other\n",
    "    outline = np.zeros([len(grid),len(grid[0])])##Create a grid to plot the outline on\n",
    "    for i in range(len(points)):##Iterate over the list of point lists\n",
    "        for j in range(len(points[i])):##Iterate over the points in each sublist\n",
    "            k = (j + 1)%len(points[i])##Take also the next point, or if the point is the last point, take the first point\n",
    "            outline[points[i][j][0]][points[i][j][1]] = 1 ##The points are set on the outline grid\n",
    "            if points[i][j][1] - points[i][k][1] != 0: ##Fill in a line between the points as long as they have different y coordinates\n",
    "                if points[i][j][1] < points[i][k][1]: ##Make sure x1,y1 is above x2,y2\n",
    "                    x1 = points[i][j][0]\n",
    "                    y1 = points[i][j][1]\n",
    "                    x2 = points[i][k][0]\n",
    "                    y2 = points[i][k][1]\n",
    "                else:\n",
    "                    x1 = points[i][k][0]\n",
    "                    y1 = points[i][k][1]\n",
    "                    x2 = points[i][j][0]\n",
    "                    y2 = points[i][j][1]\n",
    "                for l in range(y1,y2): ##For every y coordinate between the two points, fill in the nearest x coordinate\n",
    "                    x = int(((x1-x2)/(y1-y2))*(l - y1) + x1)\n",
    "                    outline[x][l] = 1\n",
    "            else:\n",
    "                if points[i][j][0] < points[i][k][0]: ##Make sure x1,y1 is to the left of x2,y2\n",
    "                    x1 = points[i][j][0]\n",
    "                    y1 = points[i][j][1]\n",
    "                    x2 = points[i][k][0]\n",
    "                    y2 = points[i][k][1]\n",
    "                else:\n",
    "                    x1 = points[i][k][0]\n",
    "                    y1 = points[i][k][1]\n",
    "                    x2 = points[i][j][0]\n",
    "                    y2 = points[i][j][1]\n",
    "                for l in range(x1,x2):##For every x coordinate between the two, fill in the nearest y coordinate\n",
    "                    y = int(((y1-y2)/(x1-x2))*(l - x1) + y1)\n",
    "                    outline[l][y] = 1\n",
    "    ##Lines have to filled in by x and y to make sure that every column and row the shape occupies has a point on the outline\n",
    "    ##Actually filling in the shape\n",
    "    for i in range(len(grid)):##Iterate over the entire grid\n",
    "        for j in range(len(grid[i])):\n",
    "            upPasses = 0\n",
    "            downPasses = 0\n",
    "            if outline[i][j] == 1: ##All outline points are filled in\n",
    "                grid[i][j] = 1\n",
    "            for k in range(i):##Iterate from the current point to the left edge\n",
    "                if outline[i-k-1][j] == 1 and outline[i-k][j] == 0: ##If a point is in the outline and the preceding point isn't, then the outline has been passes\n",
    "                    upPasses += 1\n",
    "            for k in range(len(grid) - i -1):##Repeat going toward the right edge\n",
    "                if outline[i+k][j] == 1 and outline[i+k+1][j] == 0:\n",
    "                    downPasses += 1\n",
    "            if (downPasses%2==1 or upPasses%2==1) and (downPasses > 0 and upPasses > 0):\n",
    "                ##If all directions have passes the outline at least once and the outline has been passes an odd number of times in at least one horizontal and one vertical direction, the point is definitely within the outline\n",
    "                grid[i][j] = 1\n",
    "    \n",
    "    return grid"
   ]
  },
  {
   "cell_type": "code",
   "execution_count": 9,
   "id": "cd5f2b0f",
   "metadata": {},
   "outputs": [],
   "source": [
    "def getTimes(filename): ##Gets the time array from the TESS Light Curve\n",
    "    fp = open(\"./TESSCurves/\"+filename+\".pkl\",\"rb\") ##Loading the file\n",
    "    data = pickle.load(fp)\n",
    "    fp.close()\n",
    "    \n",
    "    q = data[11]==0\n",
    "    times = data[6][q]\n",
    "    midTime = np.percentile(times,33) ##Set the 0 point at 1/3. Eight Bit Transit centers light curves at 0 so put this where you want to center the transit\n",
    "    ##Tess light curves seem to have a 2 day gap near the center\n",
    "    times = times - midTime\n",
    "    return times"
   ]
  },
  {
   "cell_type": "code",
   "execution_count": 23,
   "id": "ae72031b",
   "metadata": {},
   "outputs": [],
   "source": [
    "def generatePoints(n,r,size,xoffset = 0,yoffset = 0,separation = 0, proportion = 1, leadRotation = 0, trailRotation = 0): ##Generates points of a regular polygon with n edges, radius of r*size\n",
    "    leadProp = np.sqrt(proportion)\n",
    "    trailProp = 1/np.sqrt(proportion)\n",
    "    ##Size is grid size, 0 < r < 0.5, rotation rotates the shape from having a point vertically down\n",
    "    points = []\n",
    "    pointsToo = []\n",
    "    for i in range(n):\n",
    "        leady = int(leadProp*r*size*np.cos(i*2*np.pi/n + leadRotation) + yoffset)\n",
    "        leadx = int(leadProp*r*size*np.sin(i*2*np.pi/n + leadRotation) + xoffset + separation*r*size)\n",
    "        traily = int(trailProp*r*size*np.cos(i*2*np.pi/n + trailRotation) + yoffset)\n",
    "        trailx = int(trailProp*r*size*np.sin(i*2*np.pi/n + trailRotation) + xoffset - separation*r*size)\n",
    "        points.append([leady,leadx])\n",
    "        pointsToo.append([traily, trailx])\n",
    "    return points, pointsToo"
   ]
  },
  {
   "cell_type": "code",
   "execution_count": 11,
   "id": "3854acd8",
   "metadata": {},
   "outputs": [],
   "source": [
    "def export(planetGrid, times, filename):\n",
    "    planet = TransitingImage(opacitymat = planetGrid, v = 2, t_ref = 0, t_arr = times)\n",
    "    planetLC, overlapTimes = planet.gen_LC(t_arr = times)\n",
    " \n",
    "    f = open(filename,'w')\n",
    "    for k in range(len(overlapTimes)):\n",
    "        f.write(str(overlapTimes[k]) + '\\t' + str(planetLC[k]) + '\\n')\n",
    "    f.close()\n",
    "    "
   ]
  },
  {
   "cell_type": "code",
   "execution_count": 16,
   "id": "33d67d6a",
   "metadata": {},
   "outputs": [
    {
     "name": "stderr",
     "output_type": "stream",
     "text": [
      "/opt/conda/lib/python3.7/site-packages/ipykernel_launcher.py:3: DeprecationWarning: elementwise comparison failed; this will raise an error in the future.\n",
      "  This is separate from the ipykernel package so we can avoid doing imports until\n"
     ]
    },
    {
     "data": {
      "image/png": "[encoded data removed]",
      "text/plain": [
       "<Figure size 1728x864 with 60 Axes>"
      ]
     },
     "metadata": {
      "needs_background": "light"
     },
     "output_type": "display_data"
    }
   ],
   "source": [
    "times = getTimes(\"tesslc_364539361\")\n",
    "\n",
    "fig, axs = plt.subplots(5,12,figsize = (24,12))\n",
    "for i in range(5):\n",
    "    for j in range(12):\n",
    "        n = i+2\n",
    "        if n == 2:\n",
    "            n = 20\n",
    "        prop = 0.512 * 1.25**j\n",
    "        points = generatePoints(n,0.035,200,137,100,j+3)\n",
    "        planetGrid = fillShape(np.zeros([200,275]),points)\n",
    "        filename = \"Signals/n\"+str(n)+\"s\"+str(j+3)+\".txt\"\n",
    "        export(planetGrid, times, filename)\n",
    "        axs[i][j].imshow(planetGrid, cmap = \"Greys\",aspect = 'equal', origin = 'upper')\n",
    "        axs[i][j].tick_params(direction = \"in\", which = \"major\", length = 4, top = True, right = True)\n",
    "        axs[i][j].tick_params(direction = \"in\", which = \"minor\", length = 2, top = True, right = True)\n",
    "        axs[i][j].set_ylabel(\"n: \"+ str(n))\n",
    "        axs[i][j].set_xlabel(\"Separation: \"+str(j+1))\n",
    "        for ax in axs.flat:\n",
    "            ax.label_outer()\n",
    "fig.suptitle(\"Planets for dataset 20210616\", fontsize = 16)           \n",
    "plt.show()\n",
    "        \n"
   ]
  },
  {
   "cell_type": "code",
   "execution_count": null,
   "id": "abe11e20",
   "metadata": {},
   "outputs": [
    {
     "name": "stdout",
     "output_type": "stream",
     "text": [
      "-0.5235987755982988 -0.5235987755982988\n"
     ]
    },
    {
     "name": "stderr",
     "output_type": "stream",
     "text": [
      "/opt/conda/lib/python3.7/site-packages/ipykernel_launcher.py:3: DeprecationWarning: elementwise comparison failed; this will raise an error in the future.\n",
      "  This is separate from the ipykernel package so we can avoid doing imports until\n"
     ]
    },
    {
     "name": "stdout",
     "output_type": "stream",
     "text": [
      "-0.5235987755982988 -0.5235987755982988\n",
      "-0.5235987755982988 -0.5235987755982988\n",
      "-0.5235987755982988 -0.5235987755982988\n",
      "-0.5235987755982988 -0.5235987755982988\n",
      "-0.5235987755982988 -0.5235987755982988\n",
      "-0.5235987755982988 -0.5235987755982988\n",
      "-0.5235987755982988 -0.5235987755982988\n",
      "-0.5235987755982988 -0.5235987755982988\n",
      "-0.5235987755982988 -0.5235987755982988\n",
      "-0.5235987755982988 -0.5235987755982988\n",
      "-0.5235987755982988 -0.5235987755982988\n",
      "-0.5235987755982988 0.0\n",
      "-0.5235987755982988 0.0\n",
      "-0.5235987755982988 0.0\n",
      "-0.5235987755982988 0.0\n",
      "-0.5235987755982988 0.0\n",
      "-0.5235987755982988 0.0\n",
      "-0.5235987755982988 0.0\n",
      "-0.5235987755982988 0.0\n",
      "-0.5235987755982988 0.0\n",
      "-0.5235987755982988 0.0\n",
      "-0.5235987755982988 0.0\n",
      "-0.5235987755982988 0.0\n",
      "-0.5235987755982988 0.5235987755982988\n",
      "-0.5235987755982988 0.5235987755982988\n",
      "-0.5235987755982988 0.5235987755982988\n",
      "-0.5235987755982988 0.5235987755982988\n",
      "-0.5235987755982988 0.5235987755982988\n",
      "-0.5235987755982988 0.5235987755982988\n",
      "-0.5235987755982988 0.5235987755982988\n",
      "-0.5235987755982988 0.5235987755982988\n",
      "-0.5235987755982988 0.5235987755982988\n",
      "-0.5235987755982988 0.5235987755982988\n",
      "-0.5235987755982988 0.5235987755982988\n",
      "-0.5235987755982988 0.5235987755982988\n",
      "0.0 -0.5235987755982988\n",
      "0.0 -0.5235987755982988\n",
      "0.0 -0.5235987755982988\n",
      "0.0 -0.5235987755982988\n",
      "0.0 -0.5235987755982988\n",
      "0.0 -0.5235987755982988\n",
      "0.0 -0.5235987755982988\n",
      "0.0 -0.5235987755982988\n",
      "0.0 -0.5235987755982988\n",
      "0.0 -0.5235987755982988\n",
      "0.0 -0.5235987755982988\n"
     ]
    }
   ],
   "source": [
    "times = getTimes(\"tesslc_364539361\")\n",
    "\n",
    "fig, axs = plt.subplots(9,12,figsize = (12,24))\n",
    "for i in range(9):\n",
    "    for j in range(12):\n",
    "        leadRotation = int(i/3)*np.pi/6 - np.pi/6\n",
    "        trailRotation = (i%3)*np.pi/6 - np.pi/6\n",
    "        print(leadRotation, trailRotation)\n",
    "        points = generatePoints(3,0.035,200,137,100,j+3, 1,leadRotation, trailRotation)\n",
    "        planetGrid = fillShape(np.zeros([200,275]),points)\n",
    "        filename = \"Signals/c\"+str(int(i/3))+str(i%3)+\"s\"+str(j+3)+\".txt\"\n",
    "        export(planetGrid, times, filename)\n",
    "        axs[i][j].imshow(planetGrid, cmap = \"Greys\",aspect = 'equal', origin = 'upper')\n",
    "        axs[i][j].tick_params(direction = \"in\", which = \"major\", length = 4, top = True, right = True)\n",
    "        axs[i][j].tick_params(direction = \"in\", which = \"minor\", length = 2, top = True, right = True)\n",
    "        axs[i][j].set_ylabel(\"Configuration: \"+ str(int(i/3))+str(i%3))\n",
    "        axs[i][j].set_xlabel(\"Separation: \"+str(j+1))\n",
    "        for ax in axs.flat:\n",
    "            ax.label_outer()\n",
    "fig.suptitle(\"Planets for dataset 20210618\", fontsize = 16)           \n",
    "plt.show()\n",
    "        \n",
    "    "
   ]
  },
  {
   "cell_type": "code",
   "execution_count": 17,
   "id": "d89cc8a0",
   "metadata": {},
   "outputs": [
    {
     "name": "stdout",
     "output_type": "stream",
     "text": [
      "1\n"
     ]
    }
   ],
   "source": []
  },
  {
   "cell_type": "code",
   "execution_count": null,
   "id": "e6873238",
   "metadata": {},
   "outputs": [],
   "source": []
  }
 ],
 "metadata": {
  "environment": {
   "name": "common-cpu.m65",
   "type": "gcloud",
   "uri": "gcr.io/deeplearning-platform-release/base-cpu:m65"
  },
  "kernelspec": {
   "display_name": "Python 3",
   "language": "python",
   "name": "python3"
  },
  "language_info": {
   "codemirror_mode": {
    "name": "ipython",
    "version": 3
   },
   "file_extension": ".py",
   "mimetype": "text/x-python",
   "name": "python",
   "nbconvert_exporter": "python",
   "pygments_lexer": "ipython3",
   "version": "3.7.10"
  }
 },
 "nbformat": 4,
 "nbformat_minor": 5
}
