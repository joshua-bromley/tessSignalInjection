{
 "cells": [
  {
   "cell_type": "code",
   "execution_count": 1,
   "id": "a835d81f",
   "metadata": {},
   "outputs": [],
   "source": [
    "##Preable\n",
    "from __future__ import division\n",
    "import numpy as np\n",
    "import matplotlib.pyplot as plt\n",
    "from matplotlib import gridspec\n",
    "import copy\n",
    "import pickle\n",
    "\n",
    "from EightBitTransit.cTransitingImage import TransitingImage\n",
    "from EightBitTransit.inversion import *\n",
    "from EightBitTransit.misc import *\n",
    "\n",
    "%matplotlib inline"
   ]
  },
  {
   "cell_type": "code",
   "execution_count": 24,
   "id": "93f95786",
   "metadata": {},
   "outputs": [
    {
     "data": {
      "image/png": "[encoded data removed]",
      "text/plain": [
       "<Figure size 576x576 with 1 Axes>"
      ]
     },
     "metadata": {
      "needs_background": "light"
     },
     "output_type": "display_data"
    }
   ],
   "source": [
    "##Circles\n",
    "fp = open(\"./TESSCurves/tesslc_78452879.pkl\",\"rb\") ##Loading the file\n",
    "data = pickle.load(fp)\n",
    "fp.close()\n",
    "\n",
    "q = data[11]==0 #Extracting the data we want, can only keep high quality data\n",
    "times = data[6][q]\n",
    "planetGrid = np.zeros([200,200])\n",
    "\n",
    "medTime = np.percentile(times, 33)\n",
    "times = times - medTime\n",
    "\n",
    "r = 0.05\n",
    "\n",
    "for i in range(len(planetGrid)):\n",
    "    for j in range(len(planetGrid[i])):\n",
    "        if np.sqrt((i - len(planetGrid)/2)*(i - len(planetGrid)/2) + (j - len(planetGrid[i])/2)*(j-len(planetGrid[i])/2)) < len(planetGrid)*r:\n",
    "            planetGrid[i][j] = 1\n",
    "            \n",
    "planet = TransitingImage(opacitymat = planetGrid, v = 14.63, t_ref = 0, t_arr = times)\n",
    "\n",
    "planet.plot_grid()"
   ]
  },
  {
   "cell_type": "code",
   "execution_count": 13,
   "id": "1dc1cef0",
   "metadata": {},
   "outputs": [
    {
     "data": {
      "image/png": "[encoded data removed]",
      "text/plain": [
       "<Figure size 576x576 with 1 Axes>"
      ]
     },
     "metadata": {
      "needs_background": "light"
     },
     "output_type": "display_data"
    }
   ],
   "source": [
    "planetGrid = np.zeros([200,200])\n",
    "times = getTimes(\"tesslc_364539361\")\n",
    "\n",
    "points = []\n",
    "n = 3\n",
    "r = 0.1\n",
    "for i in range(n):\n",
    "    x = int(r*len(planetGrid)*np.cos(i*2*np.pi/n + np.pi/2) + len(planetGrid)/2)\n",
    "    y = int(r*len(planetGrid)*np.sin(i*2*np.pi/n + np.pi/2) + len(planetGrid)/2)\n",
    "    points.append([x,y])\n",
    "\n",
    "planetGrid = fillShape(np.zeros([200,200]),points)\n",
    "            \n",
    "planet = TransitingImage(opacitymat = planetGrid, v = 2, t_ref = 0, t_arr = times)\n",
    "\n",
    "planet.plot_grid()"
   ]
  },
  {
   "cell_type": "code",
   "execution_count": 17,
   "id": "a1a9042a",
   "metadata": {},
   "outputs": [
    {
     "name": "stderr",
     "output_type": "stream",
     "text": [
      "/opt/conda/lib/python3.7/site-packages/ipykernel_launcher.py:1: DeprecationWarning: elementwise comparison failed; this will raise an error in the future.\n",
      "  \"\"\"Entry point for launching an IPython kernel.\n"
     ]
    },
    {
     "data": {
      "image/png": "[encoded data removed]",
      "text/plain": [
       "<Figure size 144x72 with 1 Axes>"
      ]
     },
     "metadata": {
      "needs_background": "light"
     },
     "output_type": "display_data"
    },
    {
     "data": {
      "text/plain": [
       "'\\nfilename = input(\"Filename:\")\\n\\nf = open(\"Signals/\"+filename+\".txt\",\\'w\\')\\nfor i in range(len(overlapTimes)):\\n    f.write(str(overlapTimes[i]) + \\'\\t\\' + str(planetLC[i]) + \\'\\n\\')\\n    \\nf.close()\\n'"
      ]
     },
     "execution_count": 17,
     "metadata": {},
     "output_type": "execute_result"
    }
   ],
   "source": [
    "planetLC, overlapTimes = planet.gen_LC(t_arr = times)##Generate Light Curve\n",
    "\n",
    "fig, ax = plt.subplots(1,1,figsize=(2,1))##Plotting\n",
    "ax.plot(overlapTimes,planetLC,color=\"#1969ea\",ls=\"-\",lw=2)\n",
    "plt.xlabel(\"Time [days]\",fontsize=14)\n",
    "plt.ylabel(\"Relative flux\",fontsize=14)\n",
    "plt.title(r\"The planet's light curve as it transits left-to-right across the star at $v = 0.4 d^{-1}$\",fontsize=16)\n",
    "plt.show()\n",
    "\n",
    "'''\n",
    "filename = input(\"Filename:\")\n",
    "\n",
    "f = open(\"Signals/\"+filename+\".txt\",'w')\n",
    "for i in range(len(overlapTimes)):\n",
    "    f.write(str(overlapTimes[i]) + '\\t' + str(planetLC[i]) + '\\n')\n",
    "    \n",
    "f.close()\n",
    "'''"
   ]
  },
  {
   "cell_type": "code",
   "execution_count": 2,
   "id": "253b229d",
   "metadata": {},
   "outputs": [],
   "source": [
    "def fillShape(grid,points):\n",
    "    outline = np.zeros([len(grid),len(grid)])\n",
    "    for i in range(len(points)):\n",
    "        j = (i + 1)%len(points)\n",
    "        if points[i][0] - points[j][0] != 0:\n",
    "            if points[i][0] < points[j][0]:\n",
    "                x1 = points[i][0]\n",
    "                y1 = points[i][1]\n",
    "                x2 = points[j][0]\n",
    "                y2 = points[j][1]\n",
    "            else:\n",
    "                x1 = points[j][0]\n",
    "                y1 = points[j][1]\n",
    "                x2 = points[i][0]\n",
    "                y2 = points[i][1]\n",
    "            for k in range(x1,x2):\n",
    "                y = int(((y1-y2)/(x1-x2))*(k - x1) + y1)\n",
    "                outline[k][y] = 1\n",
    "        else:\n",
    "            if points[i][1] < points[j][1]:\n",
    "                x1 = points[i][0]\n",
    "                y1 = points[i][1]\n",
    "                x2 = points[j][0]\n",
    "                y2 = points[j][1]\n",
    "            else:\n",
    "                x1 = points[j][0]\n",
    "                y1 = points[j][1]\n",
    "                x2 = points[i][0]\n",
    "                y2 = points[i][1]\n",
    "            for k in range(y1,y2):\n",
    "                x = int(((x1-x2)/(y1-y2))*(k - y1) + x1)\n",
    "                outline[x][k] = 1\n",
    "             \n",
    "    for i in range(len(grid)):\n",
    "        totalPasses = 0\n",
    "        for j in range(len(grid)):\n",
    "            passes = 0\n",
    "            if outline[i][j] == 1:\n",
    "                totalPasses += 1\n",
    "            for k in range(j):\n",
    "                if outline[i][j-k] == 1:\n",
    "                    passes += 1\n",
    "            if passes == 1:\n",
    "                grid[i][j] = 1\n",
    "        if totalPasses == 1 or totalPasses > 2:\n",
    "            grid[i] = 0\n",
    "    \n",
    "    return grid"
   ]
  },
  {
   "cell_type": "code",
   "execution_count": 3,
   "id": "5a9416aa",
   "metadata": {},
   "outputs": [],
   "source": [
    "def getTimes(filename):\n",
    "    fp = open(\"./TESSCurves/\"+filename+\".pkl\",\"rb\") ##Loading the file\n",
    "    data = pickle.load(fp)\n",
    "    fp.close()\n",
    "\n",
    "    q = data[11]==0 #Extracting the data we want, can only keep high quality data\n",
    "    times = data[6][q]\n",
    "    midTime = np.percentile(times,33) ##Set the 0 point at 1/3. Eight Bit Transit centers light curves at 0 so put this where you want to center the transit\n",
    "    ##Tess light curves seem to have a 2 day gap near the center\n",
    "    times = times - midTime\n",
    "    return times"
   ]
  },
  {
   "cell_type": "code",
   "execution_count": null,
   "id": "75be7b03",
   "metadata": {},
   "outputs": [],
   "source": []
  }
 ],
 "metadata": {
  "environment": {
   "name": "common-cpu.m65",
   "type": "gcloud",
   "uri": "gcr.io/deeplearning-platform-release/base-cpu:m65"
  },
  "kernelspec": {
   "display_name": "Python [conda env:root] *",
   "language": "python",
   "name": "conda-root-py"
  },
  "language_info": {
   "codemirror_mode": {
    "name": "ipython",
    "version": 3
   },
   "file_extension": ".py",
   "mimetype": "text/x-python",
   "name": "python",
   "nbconvert_exporter": "python",
   "pygments_lexer": "ipython3",
   "version": "3.7.10"
  }
 },
 "nbformat": 4,
 "nbformat_minor": 5
}
