{
 "cells": [
  {
   "cell_type": "code",
   "execution_count": 1,
   "id": "f0f305dd",
   "metadata": {},
   "outputs": [],
   "source": [
    "##Preable\n",
    "from __future__ import division\n",
    "import numpy as np\n",
    "import matplotlib.pyplot as plt\n",
    "from matplotlib import gridspec\n",
    "import copy\n",
    "import pickle\n",
    "\n",
    "from EightBitTransit.cTransitingImage import TransitingImage\n",
    "from EightBitTransit.inversion import *\n",
    "from EightBitTransit.misc import *\n",
    "\n",
    "%matplotlib inline"
   ]
  },
  {
   "cell_type": "code",
   "execution_count": 2,
   "id": "6d7fb4cf",
   "metadata": {},
   "outputs": [
    {
     "data": {
      "image/png": "[encoded data removed]",
      "text/plain": [
       "<Figure size 576x576 with 1 Axes>"
      ]
     },
     "metadata": {
      "needs_background": "light"
     },
     "output_type": "display_data"
    }
   ],
   "source": [
    "##Circles\n",
    "times = np.linspace(-10,10,500)\n",
    "planetGrid = np.zeros([200,200])\n",
    "\n",
    "r = 0.05\n",
    "\n",
    "for i in range(len(planetGrid)):\n",
    "    for j in range(len(planetGrid[i])):\n",
    "        if np.sqrt((i - len(planetGrid)/2)*(i - len(planetGrid)/2) + (j - len(planetGrid[i])/2)*(j-len(planetGrid[i])/2)) < len(planetGrid)*r:\n",
    "            planetGrid[i][j] = 1\n",
    "            \n",
    "planet = TransitingImage(opacitymat = planetGrid, v = 1, t_ref = 0, t_arr = times)\n",
    "\n",
    "planet.plot_grid()"
   ]
  },
  {
   "cell_type": "code",
   "execution_count": null,
   "id": "cce337d2",
   "metadata": {},
   "outputs": [],
   "source": [
    "times = np.linspace(-10,10,500)\n",
    "planetGrid = np.zeros([200,200])\n"
   ]
  },
  {
   "cell_type": "code",
   "execution_count": null,
   "id": "d647b2ed",
   "metadata": {},
   "outputs": [],
   "source": []
  }
 ],
 "metadata": {
  "environment": {
   "name": "common-cpu.m65",
   "type": "gcloud",
   "uri": "gcr.io/deeplearning-platform-release/base-cpu:m65"
  },
  "kernelspec": {
   "display_name": "Python 3",
   "language": "python",
   "name": "python3"
  },
  "language_info": {
   "codemirror_mode": {
    "name": "ipython",
    "version": 3
   },
   "file_extension": ".py",
   "mimetype": "text/x-python",
   "name": "python",
   "nbconvert_exporter": "python",
   "pygments_lexer": "ipython3",
   "version": "3.7.10"
  }
 },
 "nbformat": 4,
 "nbformat_minor": 5
}
