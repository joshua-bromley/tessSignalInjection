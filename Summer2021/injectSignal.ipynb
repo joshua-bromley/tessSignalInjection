{
 "cells": [
  {
   "cell_type": "code",
   "execution_count": 30,
   "id": "b34064a2",
   "metadata": {},
   "outputs": [],
   "source": [
    "##Preable\n",
    "from __future__ import division\n",
    "import numpy as np\n",
    "import matplotlib.pyplot as plt\n",
    "from matplotlib import gridspec\n",
    "import copy\n",
    "import pickle\n",
    "\n",
    "from EightBitTransit.cTransitingImage import TransitingImage\n",
    "from EightBitTransit.inversion import *\n",
    "from EightBitTransit.misc import *\n",
    "\n",
    "%matplotlib inline"
   ]
  },
  {
   "cell_type": "code",
   "execution_count": 31,
   "id": "d16b6fdc",
   "metadata": {},
   "outputs": [],
   "source": [
    "def loadSignal(filename): ##Load the signal from files\n",
    "    overlapTimes, planetLC = np.loadtxt(\"Signals/\"+filename+\".txt\", unpack = True)\n",
    "    '''\n",
    "    fig, ax = plt.subplots(1,1,figsize=(24,6))##Plotting for good measure\n",
    "    ax.plot(overlapTimes,planetLC)\n",
    "    plt.xlabel(\"Time\",fontsize=14)\n",
    "    plt.ylabel(\"Flux\",fontsize=14)\n",
    "    plt.title(r\"Signal Light Curve\",fontsize=16)\n",
    "    plt.show()\n",
    "    '''\n",
    "    return overlapTimes, planetLC"
   ]
  },
  {
   "cell_type": "code",
   "execution_count": 32,
   "id": "95913b12",
   "metadata": {},
   "outputs": [],
   "source": [
    "def loadTESSLC(filename):\n",
    "    fp = open(\"./TESSCurves/\"+filename+\".pkl\",\"rb\") ##Loading the file\n",
    "    data = pickle.load(fp)\n",
    "    fp.close()\n",
    "\n",
    "    q = data[11]==0 #Extracting the data we want, can only keep high quality data\n",
    "    times = data[6][q]\n",
    "    lc = data[9][q]\n",
    "    \n",
    "    midTime = np.percentile(times,33) ##Set the 0 point at 1/3. Eight Bit Transit centers light curves at 0 so put this where you want to center the transit\n",
    "    ##Tess light curves seem to have a 2 day gap near the center\n",
    "    times = times - midTime\n",
    "\n",
    "\n",
    "    maxlc = max(lc)##Normalize Light Curve\n",
    "    normLc = lc/maxlc\n",
    "    '''\n",
    "    fig, ax = plt.subplots(1,1,figsize=(24,6))\n",
    "    ax.plot(times,normLc)\n",
    "    plt.xlabel(\"Time\",fontsize=14)\n",
    "    plt.ylabel(\"Relative Flux\",fontsize=14)\n",
    "    plt.title(r\"TESS 612256219 Light Curve\",fontsize=16)\n",
    "    plt.show()\n",
    "    '''\n",
    "    return times, normLc, midTime\n",
    "\n"
   ]
  },
  {
   "cell_type": "code",
   "execution_count": 33,
   "id": "c28059a0",
   "metadata": {},
   "outputs": [],
   "source": [
    "def extendLC(LC, overlapTimes, times): \n",
    "    ##Extends a light curve from Eight Bit Transit by adding full flux to the ends for the desired length\n",
    "    ##Assumption: Maximum flux value is 1\n",
    "    ##Assumption: Light curve is at maximum value at the start and end\n",
    "    extendedLC = np.ones(len(times))##Start with full flux curve\n",
    "    overlapIndex = 0\n",
    "    for i in range(len(times)):##Iterate over the desired time array\n",
    "        if times[i] == overlapTimes[overlapIndex]: ##When the desired time has caught up to the light curve from ebt, use the ebt values\n",
    "            if overlapIndex < len(overlapTimes) - 2:##Only do this to the end of the ebt light curve\n",
    "                overlapIndex += 1\n",
    "                extendedLC[i]  = LC[overlapIndex]\n",
    "        \n",
    "    \n",
    "    return extendedLC, times"
   ]
  },
  {
   "cell_type": "code",
   "execution_count": 34,
   "id": "cf7003aa",
   "metadata": {},
   "outputs": [],
   "source": [
    "def sumLightCurves(trueLC, genLC): \n",
    "    ##Sums a true light curve and a generated lightcurve\n",
    "    ##Assumptions: 1 is the maximal value for both light curves\n",
    "    ##Assumption: The sum of both light curves is greater than one at every point, this can be satisfied by using a non-variable true light curve and leaving >1% as the minimum in the generated curve\n",
    "    if len(trueLC) - len(genLC) != 0:\n",
    "        raise Exception(\"Light Curves must be the same size: \" + str(len(trueLC))+ \",\" + str(len(genLC)))\n",
    "    sumLC = trueLC + genLC - 1\n",
    "    ##Generated Light curve has no noise, subtracting 1 from this light curve gives reduction due to transit\n",
    "    ##Preserves noise in original light curve (average would half it)\n",
    "    ##Assumes min value in both light curves >0.5, anything violating this assumption is grounds for further investigation in itself \n",
    "    return sumLC"
   ]
  },
  {
   "cell_type": "code",
   "execution_count": 35,
   "id": "59f13e04",
   "metadata": {},
   "outputs": [],
   "source": [
    "def injectSignal(times, normLc, overlapTimes, planetLC, midTime):\n",
    "    longTransitLC, times = extendLC(planetLC, overlapTimes, times)##Extending the light curve to match the TESS curve\n",
    "    sumLC = sumLightCurves(normLc, longTransitLC)##Summing and normalizing lightcurves\n",
    "    times = times + midTime ##Resetting time array to original values\n",
    "    '''\n",
    "    fig, ax = plt.subplots(1,1,figsize=(8,6))##PLotting\n",
    "    ax.plot(times,sumLC,label = \"Generated Curve\", ls = '-', marker = 'o', ms = 1)\n",
    "    ax.legend()\n",
    "    plt.xlabel(\"Time\",fontsize=14)\n",
    "    plt.ylabel(\"Relative flux\",fontsize=14)\n",
    "    plt.title(r\"Summing a noisy and noiseless lightcurve\",fontsize=16)\n",
    "\n",
    "    ax.tick_params(direction = \"in\", which = \"major\", length = 8, top = True, right = True)\n",
    "    ax.tick_params(direction = \"in\", which = \"minor\", length = 4, top = True, right = True)\n",
    "    '''\n",
    "    return overlapTimes, sumLC\n",
    "    plt.show()"
   ]
  },
  {
   "cell_type": "code",
   "execution_count": 28,
   "id": "030e23f7",
   "metadata": {},
   "outputs": [],
   "source": [
    "def export(filein, fileout, lightcurve): ##Replaces the corrected flux with the injected signal\n",
    "    fp = open(\"./TESSCurves/\"+filein+\".pkl\",\"rb\") ##Loading the file\n",
    "    data = pickle.load(fp)\n",
    "    fp.close()\n",
    "    q = data[11]==0 #Extracting the data we want, can only keep high quality data\n",
    "    lc = data[9][q]\n",
    "    maxFlux = np.max(lc)\n",
    "    \n",
    "    i = 0\n",
    "    for j in range(len(data[9])):\n",
    "        if data[11][j] == 0:\n",
    "            data[9][j] = lightcurve[i]*maxFlux\n",
    "            i += 1\n",
    "    \n",
    "    f = open(\"./Output/\"+fileout+\".pkl\",\"wb\")\n",
    "    pickle.dump(data,f)\n",
    "    f.close()\n",
    "    "
   ]
  },
  {
   "cell_type": "code",
   "execution_count": 36,
   "id": "a77ce8a6",
   "metadata": {},
   "outputs": [],
   "source": [
    "times, normlc, midTime = loadTESSLC(\"tesslc_364539361\")\n",
    "\n",
    "for i in range(11):##Inject each of the 25 signals into a light curve\n",
    "    for j in range(12):\n",
    "        filename = \"n\"+str(i+3)+\"t\"+str(j*360/12)\n",
    "        overlapTimes, planetLC = loadSignal(filename)\n",
    "        overlapTimes, sumLC = injectSignal(times, normlc, overlapTimes, planetLC, midTime)\n",
    "        export(\"tesslc_364539361\",filename,sumLC)\n",
    "    "
   ]
  },
  {
   "cell_type": "code",
   "execution_count": null,
   "id": "6889b467",
   "metadata": {},
   "outputs": [],
   "source": []
  }
 ],
 "metadata": {
  "environment": {
   "name": "common-cpu.m65",
   "type": "gcloud",
   "uri": "gcr.io/deeplearning-platform-release/base-cpu:m65"
  },
  "kernelspec": {
   "display_name": "Python 3",
   "language": "python",
   "name": "python3"
  },
  "language_info": {
   "codemirror_mode": {
    "name": "ipython",
    "version": 3
   },
   "file_extension": ".py",
   "mimetype": "text/x-python",
   "name": "python",
   "nbconvert_exporter": "python",
   "pygments_lexer": "ipython3",
   "version": "3.7.10"
  }
 },
 "nbformat": 4,
 "nbformat_minor": 5
}
