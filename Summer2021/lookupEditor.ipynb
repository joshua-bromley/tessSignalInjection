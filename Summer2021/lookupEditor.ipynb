{
 "cells": [
  {
   "cell_type": "code",
   "execution_count": 14,
   "id": "6e0ac239",
   "metadata": {},
   "outputs": [],
   "source": [
    "##Preable\n",
    "from __future__ import division\n",
    "import numpy as np\n",
    "import matplotlib.pyplot as plt\n",
    "from matplotlib import gridspec\n",
    "import copy\n",
    "import pickle\n",
    "import csv"
   ]
  },
  {
   "cell_type": "code",
   "execution_count": 21,
   "id": "0565d532",
   "metadata": {},
   "outputs": [],
   "source": [
    "data = []\n",
    "validID = 0\n",
    "with open(\"Output/20210610/20210610lookup.csv\") as csvfile:\n",
    "    reader = csv.reader(csvfile, delimiter = ',', quotechar = '\\\"')\n",
    "    for row in reader:\n",
    "        data.append(row)\n"
   ]
  },
  {
   "cell_type": "code",
   "execution_count": 24,
   "id": "2bb78401",
   "metadata": {},
   "outputs": [],
   "source": [
    "data[0].append(\"Image\")\n",
    "for i in range(1,len(data)):\n",
    "    data[i][6] = float(data[i][6])/2\n",
    "    imgname = \"n\"+data[i][5]+\"lcs\"\n",
    "    if int(data[i][6]) > 80:\n",
    "        imgname = imgname + 'b'\n",
    "    data[i].append(imgname)"
   ]
  },
  {
   "cell_type": "code",
   "execution_count": 25,
   "id": "d4b4a902",
   "metadata": {},
   "outputs": [],
   "source": [
    "with open(\"Output/20210610/20210610lookup.csv\",'w') as csvfile:\n",
    "    writer = csv.writer(csvfile, delimiter = ',', quotechar = '\\\"', quoting = csv.QUOTE_MINIMAL)\n",
    "    for row in data:\n",
    "        writer.writerow(row)"
   ]
  },
  {
   "cell_type": "code",
   "execution_count": null,
   "id": "8ce495e6",
   "metadata": {},
   "outputs": [],
   "source": []
  }
 ],
 "metadata": {
  "environment": {
   "name": "common-cpu.m65",
   "type": "gcloud",
   "uri": "gcr.io/deeplearning-platform-release/base-cpu:m65"
  },
  "kernelspec": {
   "display_name": "Python 3",
   "language": "python",
   "name": "python3"
  },
  "language_info": {
   "codemirror_mode": {
    "name": "ipython",
    "version": 3
   },
   "file_extension": ".py",
   "mimetype": "text/x-python",
   "name": "python",
   "nbconvert_exporter": "python",
   "pygments_lexer": "ipython3",
   "version": "3.7.10"
  }
 },
 "nbformat": 4,
 "nbformat_minor": 5
}
