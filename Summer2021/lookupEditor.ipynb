{
 "cells": [
  {
   "cell_type": "code",
   "execution_count": 1,
   "id": "24e455de",
   "metadata": {},
   "outputs": [],
   "source": [
    "##Preable\n",
    "from __future__ import division\n",
    "import numpy as np\n",
    "import matplotlib.pyplot as plt\n",
    "from matplotlib import gridspec\n",
    "import copy\n",
    "import pickle\n",
    "import csv"
   ]
  },
  {
   "cell_type": "code",
   "execution_count": 5,
   "id": "99cad6f0",
   "metadata": {},
   "outputs": [],
   "source": [
    "data = []\n",
    "validID = 0\n",
    "with open(\"Output/20210610/20210610lookup.csv\") as csvfile:\n",
    "    reader = csv.reader(csvfile, delimiter = ',', quotechar = '\\\"')\n",
    "    for row in reader:\n",
    "        data.append(row)\n"
   ]
  },
  {
   "cell_type": "code",
   "execution_count": 6,
   "id": "1bfe1e1f",
   "metadata": {},
   "outputs": [],
   "source": [
    "for i in range(1,len(data)):\n",
    "    data[i][4] = 1"
   ]
  },
  {
   "cell_type": "code",
   "execution_count": 7,
   "id": "78cf46cb",
   "metadata": {},
   "outputs": [],
   "source": [
    "with open(\"Output/20210610/20210610lookup.csv\",'w') as csvfile:\n",
    "    writer = csv.writer(csvfile, delimiter = ',', quotechar = '\\\"', quoting = csv.QUOTE_MINIMAL)\n",
    "    for row in data:\n",
    "        writer.writerow(row)"
   ]
  },
  {
   "cell_type": "code",
   "execution_count": null,
   "id": "29119615",
   "metadata": {},
   "outputs": [],
   "source": []
  }
 ],
 "metadata": {
  "environment": {
   "name": "common-cpu.m65",
   "type": "gcloud",
   "uri": "gcr.io/deeplearning-platform-release/base-cpu:m65"
  },
  "kernelspec": {
   "display_name": "Python 3",
   "language": "python",
   "name": "python3"
  },
  "language_info": {
   "codemirror_mode": {
    "name": "ipython",
    "version": 3
   },
   "file_extension": ".py",
   "mimetype": "text/x-python",
   "name": "python",
   "nbconvert_exporter": "python",
   "pygments_lexer": "ipython3",
   "version": "3.7.10"
  }
 },
 "nbformat": 4,
 "nbformat_minor": 5
}
