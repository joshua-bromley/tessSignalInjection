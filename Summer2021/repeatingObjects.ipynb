{
 "cells": [
  {
   "cell_type": "code",
   "execution_count": 2,
   "id": "d966f0ec",
   "metadata": {},
   "outputs": [],
   "source": [
    "##Preable\n",
    "from __future__ import division\n",
    "import numpy as np\n",
    "import matplotlib.pyplot as plt\n",
    "from matplotlib import gridspec\n",
    "import copy\n",
    "import pickle\n",
    "\n",
    "from EightBitTransit.cTransitingImage import TransitingImage\n",
    "from EightBitTransit.inversion import *\n",
    "from EightBitTransit.misc import *\n",
    "\n",
    "%matplotlib inline"
   ]
  },
  {
   "cell_type": "code",
   "execution_count": 3,
   "id": "cc562382",
   "metadata": {},
   "outputs": [],
   "source": [
    "def fillShape(grid,points): ##Fills a shape given a set of points, connects the points in the order given\n",
    "    outline = np.zeros([len(grid),len(grid)]) ##Create a grid to hold the outline\n",
    "    for i in range(len(points)): \n",
    "        ##For each pair of points, define the line connecting them\n",
    "        ##Then fill in the nearest y point to the line for every x between the two points\n",
    "        j = (i + 1)%len(points)\n",
    "        if points[i][0] - points[j][0] != 0:\n",
    "            if points[i][0] < points[j][0]:\n",
    "                x1 = points[i][0]\n",
    "                y1 = points[i][1]\n",
    "                x2 = points[j][0]\n",
    "                y2 = points[j][1]\n",
    "            else:\n",
    "                x1 = points[j][0]\n",
    "                y1 = points[j][1]\n",
    "                x2 = points[i][0]\n",
    "                y2 = points[i][1]\n",
    "            for k in range(x1,x2):\n",
    "                y = int(((y1-y2)/(x1-x2))*(k - x1) + y1)\n",
    "                outline[k][y] = 1\n",
    "        else: ##If the points are not horizontally separated, do above but flip x and y\n",
    "            if points[i][1] < points[j][1]:\n",
    "                x1 = points[i][0]\n",
    "                y1 = points[i][1]\n",
    "                x2 = points[j][0]\n",
    "                y2 = points[j][1]\n",
    "            else:\n",
    "                x1 = points[j][0]\n",
    "                y1 = points[j][1]\n",
    "                x2 = points[i][0]\n",
    "                y2 = points[i][1]\n",
    "            for k in range(y1,y2):\n",
    "                x = int(((x1-x2)/(y1-y2))*(k - y1) + x1)\n",
    "                outline[x][k] = 1\n",
    "             \n",
    "    for i in range(len(grid)): ##For each point on the grid, draw a line to the left edge. \n",
    "        ##If this line passes the outline once, the point is in the outline and gets filled in\n",
    "        ##If the line passes the outline nonce or twice, the point is outside the outline and is left blank\n",
    "        ##If the entire row only has one outline point, the entire row is set to white\n",
    "        totalPasses = 0\n",
    "        for j in range(len(grid[0])):\n",
    "            passes = 0\n",
    "            if outline[i][j] == 1:\n",
    "                totalPasses += 1\n",
    "            for k in range(j):\n",
    "                if outline[i][j-k] == 1:\n",
    "                    passes += 1\n",
    "            if passes == 1:\n",
    "                grid[i][j] = 1\n",
    "        if totalPasses == 1 or totalPasses > 2: ##Filters out single points in a row or horizontal boundary\n",
    "            grid[i] = 0\n",
    "    \n",
    "    return grid"
   ]
  },
  {
   "cell_type": "code",
   "execution_count": 4,
   "id": "d3cef485",
   "metadata": {},
   "outputs": [],
   "source": [
    "def getTimes(filename): ##Gets the time array from the TESS Light Curve\n",
    "    fp = open(\"./TESSCurves/\"+filename+\".pkl\",\"rb\") ##Loading the file\n",
    "    data = pickle.load(fp)\n",
    "    fp.close()\n",
    "\n",
    "    q = data[11]==0 #Extracting the data we want, can only keep high quality data\n",
    "    times = data[6][q]\n",
    "    midTime = np.percentile(times,33) ##Set the 0 point at 1/3. Eight Bit Transit centers light curves at 0 so put this where you want to center the transit\n",
    "    ##Tess light curves seem to have a 2 day gap near the center\n",
    "    times = times - midTime\n",
    "    return times"
   ]
  },
  {
   "cell_type": "code",
   "execution_count": 5,
   "id": "2323af44",
   "metadata": {},
   "outputs": [],
   "source": [
    "def generatePoints(n,r,size,xoffset = 0,yoffset = 0,rotation = 0): ##Generates points of a regular polygon with n edges, radius of r*size\n",
    "    ##Size is grid size, 0 < r < 0.5, rotation rotates the shape from having a point vertically down\n",
    "    points = []\n",
    "    for i in range(n):\n",
    "        y = int(r*size*np.cos(i*2*np.pi/n + rotation) + xoffset)\n",
    "        x = int(r*size*np.sin(i*2*np.pi/n + rotation) + yoffset)\n",
    "        points.append([x,y])\n",
    "    return points"
   ]
  },
  {
   "cell_type": "code",
   "execution_count": 6,
   "id": "56dd80ee",
   "metadata": {},
   "outputs": [],
   "source": [
    "def duplicateShape(n, grid): ##Recursively adds the grid to itself n times\n",
    "    if n == 1:\n",
    "        return grid\n",
    "    largerGrid = duplicateShape(n-1,grid)\n",
    "    outputGrid = np.zeros([len(grid),len(grid[0])+len(largerGrid[0])])\n",
    "    for i in range(len(outputGrid)):\n",
    "        outputGrid[i] = np.append(largerGrid[i],grid[i])\n",
    "    return outputGrid\n",
    "        "
   ]
  },
  {
   "cell_type": "code",
   "execution_count": 29,
   "id": "11241d31",
   "metadata": {},
   "outputs": [
    {
     "data": {
      "image/png": "[encoded data removed]",
      "text/plain": [
       "<Figure size 576x576 with 1 Axes>"
      ]
     },
     "metadata": {
      "needs_background": "light"
     },
     "output_type": "display_data"
    },
    {
     "data": {
      "text/plain": [
       "'\\nfor i in range(5):\\n    points = generatePoints(3,0.5,50,50,100, 0)\\n    planetGrid = fillShape(np.zeros([200,100]),points)\\n    beaconGrid = duplicateShape(i+1,planetGrid)\\n    planet = TransitingImage(opacitymat = beaconGrid, v = 10, t_ref = 0, t_arr = times)\\n    planetLC, overlapTimes = planet.gen_LC(t_arr = times)\\n    f = open(\"Signals/trin\"+str(i)+\".txt\",\\'w\\')\\n    for i in range(len(overlapTimes)):\\n        f.write(str(overlapTimes[i]) + \\'\\t\\' + str(planetLC[i]) + \\'\\n\\')\\n    f.close()\\n'"
      ]
     },
     "execution_count": 29,
     "metadata": {},
     "output_type": "execute_result"
    }
   ],
   "source": [
    "times = getTimes(\"tesslc_78452879\")\n",
    "\n",
    "points = generatePoints(3,0.25,50,25,100, 0)\n",
    "planetGrid = fillShape(np.zeros([200,50]),points)\n",
    "beaconGrid = duplicateShape(4,planetGrid)\n",
    "planet = TransitingImage(opacitymat = beaconGrid, v = 10, t_ref = 0, t_arr = times)\n",
    "planet.plot_grid()\n",
    "\n",
    "'''\n",
    "for i in range(5):\n",
    "    points = generatePoints(3,0.5,50,50,100, 0)\n",
    "    planetGrid = fillShape(np.zeros([200,100]),points)\n",
    "    beaconGrid = duplicateShape(i+1,planetGrid)\n",
    "    planet = TransitingImage(opacitymat = beaconGrid, v = 10, t_ref = 0, t_arr = times)\n",
    "    planetLC, overlapTimes = planet.gen_LC(t_arr = times)\n",
    "    f = open(\"Signals/trin\"+str(i)+\".txt\",'w')\n",
    "    for i in range(len(overlapTimes)):\n",
    "        f.write(str(overlapTimes[i]) + '\\t' + str(planetLC[i]) + '\\n')\n",
    "    f.close()\n",
    "'''\n",
    "\n",
    "##duplicateShape can be used to increase the number of identical objects transiting.\n",
    "##Space between objects determined by white space in grid passed in."
   ]
  },
  {
   "cell_type": "code",
   "execution_count": 30,
   "id": "59863593",
   "metadata": {},
   "outputs": [
    {
     "name": "stderr",
     "output_type": "stream",
     "text": [
      "/opt/conda/lib/python3.7/site-packages/ipykernel_launcher.py:1: DeprecationWarning: elementwise comparison failed; this will raise an error in the future.\n",
      "  \"\"\"Entry point for launching an IPython kernel.\n"
     ]
    },
    {
     "data": {
      "image/png": "[encoded data removed]",
      "text/plain": [
       "<Figure size 576x432 with 1 Axes>"
      ]
     },
     "metadata": {
      "needs_background": "light"
     },
     "output_type": "display_data"
    }
   ],
   "source": [
    "planetLC, overlapTimes = planet.gen_LC(t_arr = times)\n",
    "\n",
    "fig, ax = plt.subplots(1,1,figsize=(8,6))##PLotting\n",
    "ax.plot(overlapTimes,planetLC,label = \"Generated Curve\", ls = '-')\n",
    "ax.legend()\n",
    "plt.xlabel(\"Time\",fontsize=14)\n",
    "plt.ylabel(\"Relative flux\",fontsize=14)\n",
    "plt.title(r\"Summing a noisy and noiseless lightcurve\",fontsize=16)\n",
    "\n",
    "ax.tick_params(direction = \"in\", which = \"major\", length = 8, top = True, right = True)\n",
    "ax.tick_params(direction = \"in\", which = \"minor\", length = 4, top = True, right = True)\n",
    "plt.show()"
   ]
  },
  {
   "cell_type": "code",
   "execution_count": null,
   "id": "2f5f4753",
   "metadata": {},
   "outputs": [],
   "source": []
  }
 ],
 "metadata": {
  "environment": {
   "name": "common-cpu.m65",
   "type": "gcloud",
   "uri": "gcr.io/deeplearning-platform-release/base-cpu:m65"
  },
  "kernelspec": {
   "display_name": "Python 3",
   "language": "python",
   "name": "python3"
  },
  "language_info": {
   "codemirror_mode": {
    "name": "ipython",
    "version": 3
   },
   "file_extension": ".py",
   "mimetype": "text/x-python",
   "name": "python",
   "nbconvert_exporter": "python",
   "pygments_lexer": "ipython3",
   "version": "3.7.10"
  }
 },
 "nbformat": 4,
 "nbformat_minor": 5
}
