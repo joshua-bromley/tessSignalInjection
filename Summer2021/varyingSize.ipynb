{
 "cells": [
  {
   "cell_type": "code",
   "execution_count": 2,
   "id": "bd45489e",
   "metadata": {},
   "outputs": [],
   "source": [
    "##Preable\n",
    "from __future__ import division\n",
    "import numpy as np\n",
    "import matplotlib.pyplot as plt\n",
    "from matplotlib import gridspec\n",
    "import copy\n",
    "import pickle\n",
    "\n",
    "from EightBitTransit.cTransitingImage import TransitingImage\n",
    "from EightBitTransit.inversion import *\n",
    "from EightBitTransit.misc import *\n",
    "\n",
    "%matplotlib inline"
   ]
  },
  {
   "cell_type": "code",
   "execution_count": 2,
   "id": "7fe848b3",
   "metadata": {},
   "outputs": [],
   "source": [
    "def fillShape(grid,points): ##Fills a shape given a set of points, connects the points in the order given\n",
    "    outline = np.zeros([len(grid),len(grid)]) ##Create a grid to hold the outline\n",
    "    for i in range(len(points)): \n",
    "        ##For each pair of points, define the line connecting them\n",
    "        ##Then fill in the nearest y point to the line for every x between the two points\n",
    "        j = (i + 1)%len(points)\n",
    "        if points[i][0] - points[j][0] != 0:\n",
    "            if points[i][0] < points[j][0]:\n",
    "                x1 = points[i][0]\n",
    "                y1 = points[i][1]\n",
    "                x2 = points[j][0]\n",
    "                y2 = points[j][1]\n",
    "            else:\n",
    "                x1 = points[j][0]\n",
    "                y1 = points[j][1]\n",
    "                x2 = points[i][0]\n",
    "                y2 = points[i][1]\n",
    "            for k in range(x1,x2):\n",
    "                y = int(((y1-y2)/(x1-x2))*(k - x1) + y1)\n",
    "                outline[k][y] = 1\n",
    "        else: ##If the points are not horizontally separated, do above but flip x and y\n",
    "            if points[i][1] < points[j][1]:\n",
    "                x1 = points[i][0]\n",
    "                y1 = points[i][1]\n",
    "                x2 = points[j][0]\n",
    "                y2 = points[j][1]\n",
    "            else:\n",
    "                x1 = points[j][0]\n",
    "                y1 = points[j][1]\n",
    "                x2 = points[i][0]\n",
    "                y2 = points[i][1]\n",
    "            for k in range(y1,y2):\n",
    "                x = int(((x1-x2)/(y1-y2))*(k - y1) + x1)\n",
    "                outline[x][k] = 1\n",
    "             \n",
    "    for i in range(len(grid)): ##For each point on the grid, draw a line to the left edge. \n",
    "        ##If this line passes the outline once, the point is in the outline and gets filled in\n",
    "        ##If the line passes the outline nonce or twice, the point is outside the outline and is left blank\n",
    "        ##If the entire row only has one outline point, the entire row is set to white\n",
    "        totalPasses = 0\n",
    "        for j in range(len(grid)):\n",
    "            passes = 0\n",
    "            if outline[i][j] == 1:\n",
    "                totalPasses += 1\n",
    "            for k in range(j):\n",
    "                if outline[i][j-k] == 1:\n",
    "                    passes += 1\n",
    "            if passes == 1:\n",
    "                grid[i][j] = 1\n",
    "        if totalPasses == 1 or totalPasses > 2:\n",
    "            grid[i] = 0\n",
    "    \n",
    "    return grid"
   ]
  },
  {
   "cell_type": "code",
   "execution_count": 3,
   "id": "8ff3b38e",
   "metadata": {},
   "outputs": [],
   "source": [
    "def getTimes(filename): ##Gets the time array from the TESS Light Curve\n",
    "    fp = open(\"./TESSCurves/\"+filename+\".pkl\",\"rb\") ##Loading the file\n",
    "    data = pickle.load(fp)\n",
    "    fp.close()\n",
    "\n",
    "    q = data[11]==0 #Extracting the data we want, can only keep high quality data\n",
    "    times = data[6][q]\n",
    "    midTime = np.percentile(times,33) ##Set the 0 point at 1/3. Eight Bit Transit centers light curves at 0 so put this where you want to center the transit\n",
    "    ##Tess light curves seem to have a 2 day gap near the center\n",
    "    times = times - midTime\n",
    "    return times"
   ]
  },
  {
   "cell_type": "code",
   "execution_count": 7,
   "id": "beefa9b7",
   "metadata": {},
   "outputs": [],
   "source": [
    "def generatePoints(n,r,size,rotation = 0): ##Generates points of a regular polygon with n edges, radius of r*size\n",
    "    ##Size is grid size, 0 < r < 0.5, rotation rotates the shape from having a point vertically down\n",
    "    points = []\n",
    "    for i in range(n):\n",
    "        x = int(r*size*np.cos(i*2*np.pi/n + rotation) + size/2)\n",
    "        y = int(r*size*np.sin(i*2*np.pi/n + rotation) + size/2)\n",
    "        points.append([x,y])\n",
    "    return points"
   ]
  },
  {
   "cell_type": "code",
   "execution_count": 8,
   "id": "e443e9da",
   "metadata": {},
   "outputs": [
    {
     "name": "stderr",
     "output_type": "stream",
     "text": [
      "/opt/conda/lib/python3.7/site-packages/ipykernel_launcher.py:7: DeprecationWarning: elementwise comparison failed; this will raise an error in the future.\n",
      "  import sys\n"
     ]
    }
   ],
   "source": [
    "times = getTimes(\"tesslc_364539361\")\n",
    "\n",
    "for i in range(25): ##Batch generates 25 triangles and stores the light curves in files\n",
    "    points = generatePoints(3,0.01*i,200)\n",
    "    planetGrid = fillShape(np.zeros([200,200]),points)\n",
    "    planet = TransitingImage(opacitymat = planetGrid, v = 0.4, t_ref = 0, t_arr = times)\n",
    "    planetLC, overlapTimes = planet.gen_LC(t_arr = times)\n",
    "    f = open(\"Signals/trir\"+str(0.01*i)+\".txt\",'w')\n",
    "    for i in range(len(overlapTimes)):\n",
    "        f.write(str(overlapTimes[i]) + '\\t' + str(planetLC[i]) + '\\n')\n",
    "    f.close()\n",
    "    "
   ]
  },
  {
   "cell_type": "code",
   "execution_count": null,
   "id": "cc695b44",
   "metadata": {},
   "outputs": [],
   "source": []
  }
 ],
 "metadata": {
  "environment": {
   "name": "common-cpu.m65",
   "type": "gcloud",
   "uri": "gcr.io/deeplearning-platform-release/base-cpu:m65"
  },
  "kernelspec": {
   "display_name": "Python 3",
   "language": "python",
   "name": "python3"
  },
  "language_info": {
   "codemirror_mode": {
    "name": "ipython",
    "version": 3
   },
   "file_extension": ".py",
   "mimetype": "text/x-python",
   "name": "python",
   "nbconvert_exporter": "python",
   "pygments_lexer": "ipython3",
   "version": "3.7.10"
  }
 },
 "nbformat": 4,
 "nbformat_minor": 5
}
