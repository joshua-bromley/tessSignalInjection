{
 "cells": [
  {
   "cell_type": "markdown",
   "id": "dd74c7ab",
   "metadata": {},
   "source": [
    "# Signal Injection for TESS XRP\n",
    "\n",
    "This notebook goes through how to use software written by Joshua Bromley for the Berkeley SETI Research Center in the Spring of 2021 to inject signals into TESS lightcurves.\n",
    "This software injects transits from orbital and circumstellar megastructures"
   ]
  },
  {
   "cell_type": "code",
   "execution_count": null,
   "id": "e34522dd",
   "metadata": {},
   "outputs": [],
   "source": [
    "##Preable\n",
    "from __future__ import division\n",
    "import numpy as np\n",
    "import matplotlib.pyplot as plt\n",
    "from matplotlib import gridspec\n",
    "import copy\n",
    "import pickle\n",
    "\n",
    "from EightBitTransit.cTransitingImage import TransitingImage\n",
    "from EightBitTransit.inversion import *\n",
    "from EightBitTransit.misc import *\n",
    "\n",
    "%matplotlib inline"
   ]
  },
  {
   "cell_type": "markdown",
   "id": "4a489432",
   "metadata": {},
   "source": [
    "## Reading Light Curves\n",
    "\n",
    "The lightcurves from the TESS satellite are stored in the tess-goddard-lcs bucket. The lightcurves are sorted by sector and then magnitude and each sector has a lookup file and are stored as .pkl files. The lightcurves can either be downloaded directly from the bucket or using unix.\n",
    "Files can be downloaded from the bucket using the command `gsutil cp gs::/tess-goddard-lcs/path/to/file ./path/to/destination` <br>\n",
    "If you know the sector and one of the TIC ID, Right Ascension or Declination, the lookupfiles can be searched with `grep \"[parameter]\" path/to/lookup/file`\n",
    "You can then take the file path from that to use with gsutil. If you don't know the sector, it can be found in the MAST database. <br>\n",
    "Details of what data is stored on the .pkl files can be found in the readme in the tess-goddard-lcs bucket"
   ]
  },
  {
   "cell_type": "code",
   "execution_count": null,
   "id": "4292c650",
   "metadata": {},
   "outputs": [],
   "source": [
    "fp = open(\"./lightcurves/tesslc_364539361.pkl\",\"rb\") ##Loading the file\n",
    "data = pickle.load(fp)\n",
    "fp.close()\n",
    "\n",
    "q = data[11]==0 #Extracting the data we want, can only keep high quality data\n",
    "times = data[6][q]\n",
    "lc = data[8][q]\n",
    "\n",
    "fig, ax = plt.subplots(1,1,figsize=(24,6))##Plotting for good measure\n",
    "ax.plot(times,lc,color=\"#1969ea\",ls=\"-\",lw=5)\n",
    "plt.xlabel(\"Time\",fontsize=14)\n",
    "plt.ylabel(\"Flux\",fontsize=14)\n",
    "plt.title(r\"TESS 612256219 Light Curve\",fontsize=16)\n",
    "plt.show()"
   ]
  },
  {
   "cell_type": "markdown",
   "id": "d84e0237",
   "metadata": {},
   "source": [
    "### The time array\n",
    "The time array from the TESS data is given in modified julian date. Eight Bit Transit centers the transit around 0. Use the TESS time array for the transit, we must shift the time values to include 0. <br>\n",
    "Additionally, the TESS time array has holes. This is not an issue for a single orbital structure but can become an issue for simulating the transit of an circumstellar structure so we must fill in the gaps."
   ]
  },
  {
   "cell_type": "code",
   "execution_count": null,
   "id": "cc3aca36",
   "metadata": {},
   "outputs": [],
   "source": [
    "def fillLightCurve(times, lc):\n",
    "    ## Fills times gaps with median light curve value\n",
    "    ##Assumption: Filling gaps with the median flux value will not make the light curve super wierd\n",
    "    med = np.median(lc)\n",
    "    dif = []\n",
    "    for i in range(len(cutTimes) -1):\n",
    "        dif.append(cutTimes[i+1]-cutTimes[i])\n",
    "    \n",
    "    newTimes = []\n",
    "    newLc = []\n",
    "    i = 0\n",
    "    while i < len(times):\n",
    "        if times[i] - times[i-1] > 1.2*min(dif):\n",
    "            times = np.insert(times, i, times[i-1]+min(dif))\n",
    "            lc = np.insert(lc,i,med)\n",
    "        newTimes.append(times[i])    \n",
    "        newLc.append(lc[i])\n",
    "        i += 1\n",
    "        \n",
    "    return newTimes, newLc"
   ]
  },
  {
   "cell_type": "code",
   "execution_count": null,
   "id": "44176011",
   "metadata": {},
   "outputs": [],
   "source": [
    "newTimes, newLc = fillLightCurve(times, lc) ##Fill Gaps\n",
    "midTime = np.percentile(cutTimes,50) ##Set the 0 point at 1/2. Eight Bit Transit centers light curves at 0 so put this where you want to center the transit\n",
    "##Tess light curves seem to have a 2 day gap near the center\n",
    "newTimes = newTimes - midTime\n",
    "\n",
    "\n",
    "maxlc = max(newLc)##Normalize Light Curve\n",
    "normLc = newLc/maxlc\n",
    "\n",
    "fig, ax = plt.subplots(1,1,figsize=(24,6))\n",
    "ax.plot(cutTimes,normLc,color=\"#1969ea\",ls=\"-\",lw=5)\n",
    "plt.xlabel(\"Time\",fontsize=14)\n",
    "plt.ylabel(\"Relative Flux\",fontsize=14)\n",
    "plt.title(r\"TESS 612256219 Light Curve\",fontsize=16)\n",
    "plt.show()"
   ]
  },
  {
   "cell_type": "markdown",
   "id": "68d23730",
   "metadata": {},
   "source": [
    "## Generating Transits\n",
    "Transits are generated using the EightBitTransit package, visit their github for more information on the package. This package generates the lightcurve from a user defined shape using a pixel array.\n"
   ]
  },
  {
   "cell_type": "markdown",
   "id": "c5462a55",
   "metadata": {},
   "source": [
    "### Orbital Structure\n",
    "This sections goes over generating the lightcurves of orbital structures. "
   ]
  },
  {
   "cell_type": "code",
   "execution_count": null,
   "id": "4f13d599",
   "metadata": {},
   "outputs": [],
   "source": [
    "planetGrid = np.zeros((30,30)) \n",
    "##Genrate the shape by changing opacity values of this grid [0,1]\n",
    "##The star being transited has diameter equal to the height of the grid, make your shape accourdingly\n",
    "planetGrid[6:24,13:17] = 1\n",
    "planetGrid[13:17,6:24] = 1\n",
    "planetGrid[7:23,10:20] = 1\n",
    "planetGrid[10:20,7:23] = 1\n",
    "planetGrid[8:22,8:22] = 1\n",
    "planetGrid[9:21,9:21] = 1\n",
    "planetGrid[12:18,12:18] = 0\n",
    "planetGrid[11:19,13:17] = 0\n",
    "planetGrid[13:17,11:19] = 0\n",
    "\n",
    "planet = TransitingImage(opacitymat = planetGrid, lowres = 15, lowrestype=\"mean\",lowresround = False, v = 1, t_ref = 0, t_arr = times)\n",
    "\n",
    "planet.plot_grid()\n",
    "\n",
    "planetLC, overlapTimes = planet.gen_LC(t_arr = times)##Generate Light Curve\n",
    "\n",
    "fig, ax = plt.subplots(1,1,figsize=(8,6))##Plotting\n",
    "ax.plot(overlapTimes,planetLC,color=\"#1969ea\",ls=\"-\",lw=2)\n",
    "plt.xlabel(\"Time [days]\",fontsize=14)\n",
    "plt.ylabel(\"Relative flux\",fontsize=14)\n",
    "plt.title(r\"The planet's light curve as it transits left-to-right across the star at $v = 0.4 d^{-1}$\",fontsize=16)\n",
    "plt.show()"
   ]
  },
  {
   "cell_type": "markdown",
   "id": "dadfc2de",
   "metadata": {},
   "source": [
    "### Circumstellar Structure\n",
    "To generate the lightcurve of a circumstellar structure, we first generate the lightcurve of a section larger than the star transiting. Then we take the section where the object is fully in front of the star and copy it for the entire time lenght. This way we don't have to create on object long enough to transit for 30 days, the lenght of a TESS observation"
   ]
  },
  {
   "cell_type": "code",
   "execution_count": null,
   "id": "b3381e61",
   "metadata": {},
   "outputs": [],
   "source": [
    "def cutLightCurve(times, lc, t0, t1): \n",
    "    ## Cuts a light curve to be between t0 and t1\n",
    "    ##Assumption t0 < t1\n",
    "    newTimes = []\n",
    "    newLc = []\n",
    "    i = 0\n",
    "    while i < len(times):\n",
    "        if times[i] > t0 and times[i] < t1:\n",
    "            newTimes.append(times[i])    \n",
    "            newLc.append(lc[i])\n",
    "        i += 1\n",
    "                \n",
    "    return newTimes,newLc"
   ]
  },
  {
   "cell_type": "code",
   "execution_count": null,
   "id": "931c829c",
   "metadata": {},
   "outputs": [],
   "source": [
    "def duplicateLightCurve(lc,times,t0,t1):\n",
    "    ##Takes a periodic light curve and extends it while replicating the behavior\n",
    "    ##Assumptions: The input light curve is some integer multiple of whole periods, the first and last values are the same or similar\n",
    "    diff = []\n",
    "    for i in range(len(times) - 1):\n",
    "        diff.append(times[i+1]-times[i])\n",
    "        \n",
    "    print(max(diff),min(diff))\n",
    "    i = 1\n",
    "    while times[0] > t0:\n",
    "        times = np.insert(times,0,times[0]-min(diff))\n",
    "        lc = np.insert(lc,0,lc[-i])\n",
    "        i += 1\n",
    "    i -= 1\n",
    "    while times[-1] < t1:\n",
    "        times = np.insert(times, len(times), times[-1]+min(diff))\n",
    "        lc = np.insert(lc,len(lc),lc[i])\n",
    "        i += 1\n",
    "    return lc, times"
   ]
  },
  {
   "cell_type": "code",
   "execution_count": null,
   "id": "9b4a0a07",
   "metadata": {},
   "outputs": [],
   "source": [
    "planetGrid = np.zeros((30,100))\n",
    "##Genrate the shape by changing opacity values of this grid [0,1]\n",
    "##The star being transited has diameter equal to the height of the grid, make your shape 2-3 times as long as the height\n",
    "planetGrid[8:10,0:300] = 1\n",
    "planetGrid[20:22,0:300] = 1\n",
    "planetGrid[8:22,5:7] = 1\n",
    "planetGrid[8:22,25:27] = 1\n",
    "planetGrid[8:22,45:47] = 1\n",
    "planetGrid[8:22,65:67] = 1\n",
    "planetGrid[8:22,85:87] = 1\n",
    "\n",
    "planet = TransitingImage(opacitymat = planetGrid, lowres = 15, lowrestype=\"mean\",lowresround = False, v = 1, t_ref = 0, t_arr = cutTimes)\n",
    "\n",
    "planet.plot_grid()\n",
    "\n",
    "planetLC, overlapTimes = planet.gen_LC(t_arr = newTimes)##Generate Light Curve\n",
    "\n",
    "overlapTimes, planetLC = cutLightCurve(overlapTimes, planetLC, -1.85,2.15)##Cutting the periodic behavior, the bounds of the periodic behavior can be found by plotting the light curve\n",
    "planetLC, overlapTimes = duplicateLightCurve(planetLC, overlapTimes, newTimes[0],newTimes[-1] - 1.05*(newTimes[1]-newTimes[0]))##Duplicating the periodic behavior\n",
    "\n",
    "fig, ax = plt.subplots(1,1,figsize=(8,6))##Plotting\n",
    "ax.plot(overlapTimes,planetLC,color=\"#1969ea\",ls=\"-\",lw=2)\n",
    "plt.xlabel(\"Time [days]\",fontsize=14)\n",
    "plt.ylabel(\"Relative flux\",fontsize=14)\n",
    "plt.title(r\"The planet's light curve as it transits left-to-right across the star at $v = 0.4 d^{-1}$\",fontsize=16)\n",
    "plt.show()"
   ]
  },
  {
   "cell_type": "markdown",
   "id": "1940f072",
   "metadata": {},
   "source": [
    "## Summing the light curves\n",
    "Now we have to add the signal and the background noise together to create a realistic looking signal"
   ]
  },
  {
   "cell_type": "markdown",
   "id": "4e1537e6",
   "metadata": {},
   "source": [
    "### Orbital Structure\n",
    "EightBitTransit only gives us part of the light curve where the transit occurs. We must match this to the lenght of the TESS light curves"
   ]
  },
  {
   "cell_type": "code",
   "execution_count": null,
   "id": "22a4c4e3",
   "metadata": {},
   "outputs": [],
   "source": [
    "def extendLC(LC, overlapTimes, times): \n",
    "    ##Extends a light curve from Eight Bit Transit by adding full flux to the ends for the desired length\n",
    "    ##Assumption: Maximum flux value is 1\n",
    "    ##Assumption: Light curve is at maximum value at the start and end\n",
    "    extendedLC = np.ones(len(times))##Start with full flux curve\n",
    "    overlapIndex = 0\n",
    "    for i in range(len(times)):##Iterate over the desired time array\n",
    "        if times[i] == overlapTimes[overlapIndex]: ##When the desired time has caught up to the light curve from ebt, use the ebt values\n",
    "            if overlapIndex < len(overlapTimes) - 1:##Only do this to the end of the ebt light curve\n",
    "                overlapIndex += 1\n",
    "                extendedLC[i] = LC[overlapIndex]\n",
    "        \n",
    "    \n",
    "    return extendedLC, times"
   ]
  },
  {
   "cell_type": "code",
   "execution_count": null,
   "id": "dcdc6a10",
   "metadata": {},
   "outputs": [],
   "source": [
    "def sumLightCurves(trueLC, genLC): \n",
    "    ##Sums a true light curve and a generated lightcurve\n",
    "    ##Assumptions: 1 is the maximal value for both light curves\n",
    "    ##Assumption: The sum of both light curves is greater than one at every point, this can be satisfied by using a non-variable true light curve and leaving >1% as the minimum in the generated curve\n",
    "    if len(trueLC) - len(genLC) != 0:\n",
    "        raise Exception(\"Light Curves must be the same size: \" + str(len(trueLC))+ \",\" + str(len(genLC)))\n",
    "    sumLC = trueLC + genLC - 1\n",
    "    ##Generated Light curve has no noise, subtracting 1 from this light curve gives reduction due to transit\n",
    "    ##Preserves noise in original light curve (average would half it)\n",
    "    ##Assumes min value in both light curves >0.5, anything violating this assumption is grounds for further investigation in itself \n",
    "    return sumLC"
   ]
  },
  {
   "cell_type": "code",
   "execution_count": null,
   "id": "406cba4a",
   "metadata": {},
   "outputs": [],
   "source": [
    "longTransitLC, overlapTimes = extendLC(planetLC, overlapTimes, times)##Extending the light curve to match the TESS curve\n",
    "sumLC = ebtSumLightCurves(normLc, planetLC)##Summing and normalizing lightcurves\n",
    "medLC = np.median(sumLC)\n",
    "sumLC = sumLC/medLC\n",
    "overlapTimes = overlapTimes + midTime ##Resetting time array to original values\n",
    "\n",
    "fig, ax = plt.subplots(1,1,figsize=(8,6))##PLotting\n",
    "ax.plot(overlapTimes,sumLC,label = \"Generated Curve\", ls = '-')\n",
    "ax.legend()\n",
    "plt.xlabel(\"Time\",fontsize=14)\n",
    "plt.ylabel(\"Relative flux\",fontsize=14)\n",
    "plt.title(r\"Summing a noisy and noiseless lightcurve\",fontsize=16)\n",
    "\n",
    "ax.tick_params(direction = \"in\", which = \"major\", length = 8, top = True, right = True)\n",
    "ax.tick_params(direction = \"in\", which = \"minor\", length = 4, top = True, right = True)\n",
    "\n",
    "filename = input(\"Filename:\") ##Prompt to not forget to change the file name and overwrite existing outputs\n",
    "\n",
    "plt.savefig(\"./output/\"+filename)\n",
    "plt.show()"
   ]
  },
  {
   "cell_type": "markdown",
   "id": "524abd90",
   "metadata": {},
   "source": [
    "### Circumstellar Structure\n",
    "We don't have to adjust the size of the light curve becuase we made it the right size when duplicating the periodic behavior. We do have to put the time holes back in so that the neural net doesn't think the lack of time holes is anomalous"
   ]
  },
  {
   "cell_type": "code",
   "execution_count": null,
   "id": "e5db619e",
   "metadata": {},
   "outputs": [],
   "source": [
    "def cleanTimes(lc, times, newTimes):\n",
    "    ##Removes all datapoints from lc and times when an element in the times array does not have a corresponding element in the newTimes array\n",
    "    ##Removes the filling done by cutTimes, use these two functions in conjunction\n",
    "    ##Assumption: times array is larger than newTimes\n",
    "    ##Assumption: times[0] = newTimes[0]\n",
    "    ##Assumption: The difference between the first two elements in the times array is representative of a typical difference\n",
    "    i = 0\n",
    "    diff = times[1] - times[0]\n",
    "    while i < len(newTimes) and i < len(times):\n",
    "        if abs(newTimes[i] - times[i]) > 0.9*diff:\n",
    "            times = np.delete(times, i)\n",
    "            lc = np.delete(lc,i)\n",
    "        else:\n",
    "            i += 1\n",
    "    return lc, newTimes"
   ]
  },
  {
   "cell_type": "code",
   "execution_count": null,
   "id": "672011c0",
   "metadata": {},
   "outputs": [],
   "source": [
    "sumLC = sumLightCurves(normLc, planetLC)##Summing and normalizing lightcurves\n",
    "medLC = np.median(sumLC)\n",
    "sumLC = sumLC/medLC\n",
    "overlapTimes = overlapTimes + midTime\n",
    "\n",
    "sumLC, overlapTimes = cleanTimes(sumLC, overlapTimes, times)##Removing the filled in holes\n",
    "\n",
    "overlapTimes = np.delete(overlapTimes, -1)##Off by one error, trying to fix\n",
    "\n",
    "fig, ax = plt.subplots(1,1,figsize=(8,6))##PLotting\n",
    "ax.plot(overlapTimes,sumLC,label = \"Generated Curve\", ls = '-')\n",
    "ax.legend()\n",
    "plt.xlabel(\"Time\",fontsize=14)\n",
    "plt.ylabel(\"Relative flux\",fontsize=14)\n",
    "plt.title(r\"Summing a noisy and noiseless lightcurve\",fontsize=16)\n",
    "\n",
    "ax.tick_params(direction = \"in\", which = \"major\", length = 8, top = True, right = True)\n",
    "ax.tick_params(direction = \"in\", which = \"minor\", length = 4, top = True, right = True)\n",
    "\n",
    "filename = input(\"Filename:\") ##Prompt to not forget to change the file name and overwrite existing outputs\n",
    "\n",
    "plt.savefig(\"./output/\"+filename)\n",
    "plt.show()"
   ]
  }
 ],
 "metadata": {
  "environment": {
   "name": "common-cpu.m65",
   "type": "gcloud",
   "uri": "gcr.io/deeplearning-platform-release/base-cpu:m65"
  },
  "kernelspec": {
   "display_name": "Python 3",
   "language": "python",
   "name": "python3"
  },
  "language_info": {
   "codemirror_mode": {
    "name": "ipython",
    "version": 3
   },
   "file_extension": ".py",
   "mimetype": "text/x-python",
   "name": "python",
   "nbconvert_exporter": "python",
   "pygments_lexer": "ipython3",
   "version": "3.7.10"
  }
 },
 "nbformat": 4,
 "nbformat_minor": 5
}
