{
 "cells": [
  {
   "cell_type": "code",
   "execution_count": 3,
   "id": "67bbe657",
   "metadata": {},
   "outputs": [],
   "source": [
    "##Preable\n",
    "from __future__ import division\n",
    "import numpy as np\n",
    "import matplotlib.pyplot as plt\n",
    "from matplotlib import gridspec\n",
    "import copy\n",
    "import pickle\n",
    "\n",
    "from EightBitTransit.cTransitingImage import TransitingImage\n",
    "from EightBitTransit.inversion import *\n",
    "from EightBitTransit.misc import *\n",
    "\n",
    "%matplotlib inline"
   ]
  },
  {
   "cell_type": "code",
   "execution_count": 4,
   "id": "3c51f3dc",
   "metadata": {},
   "outputs": [],
   "source": [
    "def fillShape(grid,points): ##Pls optimize, will become a bottleneck\n",
    "    \n",
    "    ##This function takes a list of lists points and returns a grid with the shape bound by said points filled in.\n",
    "    ##Points in the sublists are connected in the order they are given\n",
    "    ##Sublists are not connected to each other\n",
    "    outline = np.zeros([len(grid),len(grid[0])])##Create a grid to plot the outline on\n",
    "    for i in range(len(points)):##Iterate over the list of point lists\n",
    "        for j in range(len(points[i])):##Iterate over the points in each sublist\n",
    "            k = (j + 1)%len(points[i])##Take also the next point, or if the point is the last point, take the first point\n",
    "            outline[points[i][j][0]][points[i][j][1]] = 1 ##The points are set on the outline grid\n",
    "            if points[i][j][0] - points[i][k][0] != 0: ##Fill in a line between the points as long as they have different y coordinates\n",
    "                if points[i][j][0] < points[i][k][0]: ##Make sure x1,y1 is to the left of x2,y2\n",
    "                    x1 = points[i][j][0]\n",
    "                    y1 = points[i][j][1]\n",
    "                    x2 = points[i][k][0]\n",
    "                    y2 = points[i][k][1]\n",
    "                else:\n",
    "                    x1 = points[i][k][0]\n",
    "                    y1 = points[i][k][1]\n",
    "                    x2 = points[i][j][0]\n",
    "                    y2 = points[i][j][1]\n",
    "                for l in range(x1,x2):##For every x coordinate between the two, fill in the nearest y coordinate\n",
    "                    y = int(((y1-y2)/(x1-x2))*(l - x1) + y1)\n",
    "                    outline[l][y] = 1\n",
    "            else:\n",
    "                if points[i][j][1] < points[i][k][1]: ##Make sure x1,y1 is above x2,y2\n",
    "                    x1 = points[i][j][0]\n",
    "                    y1 = points[i][j][1]\n",
    "                    x2 = points[i][k][0]\n",
    "                    y2 = points[i][k][1]\n",
    "                else:\n",
    "                    x1 = points[i][k][0]\n",
    "                    y1 = points[i][k][1]\n",
    "                    x2 = points[i][j][0]\n",
    "                    y2 = points[i][j][1]\n",
    "                for l in range(y1,y2): ##For every y coordinate between the two points, fill in the nearest x coordinate\n",
    "                    x = int(((x1-x2)/(y1-y2))*(l - y1) + x1)\n",
    "                    outline[x][l] = 1\n",
    "    ##Lines have to filled in by x and y to make sure that every column and row the shape occupies has a point on the outline\n",
    "    ##Actually filling in the shape\n",
    "    for i in range(len(grid)):##Iterate over the entire grid\n",
    "        for j in range(len(grid[i])):\n",
    "            leftPasses = 0\n",
    "            rightPasses = 0\n",
    "            if outline[i][j] == 1: ##All outline points are filled in\n",
    "                grid[i][j] = 1\n",
    "            for k in range(j):##Iterate from the current point to the left edge\n",
    "                if outline[i][j-k-1] == 1 and outline[i][j-k] == 0: ##If a point is in the outline and the preceding point isn't, then the outline has been passes\n",
    "                    leftPasses += 1\n",
    "            for k in range(len(grid[i]) - j -1):##Repeat going toward the right edge\n",
    "                if outline[i][j+k] == 1 and outline[i][j+k+1] == 0:\n",
    "                    rightPasses += 1\n",
    "            if (rightPasses%2==1 or leftPasses%2==1) and (leftPasses > 0 and rightPasses > 0):\n",
    "                ##If all directions have passes the outline at least once and the outline has been passes an odd number of times in at least one horizontal and one vertical direction, the point is definitely within the outline\n",
    "                grid[i][j] = 1\n",
    "    \n",
    "    return grid"
   ]
  },
  {
   "cell_type": "code",
   "execution_count": 5,
   "id": "f497c3fc",
   "metadata": {},
   "outputs": [],
   "source": [
    "def duplicateShape(n, grid): ##Recursively adds the grid to itself n times\n",
    "    if n == 1:\n",
    "        return grid\n",
    "    largerGrid = duplicateShape(n-1,grid)\n",
    "    outputGrid = np.zeros([len(grid),len(grid[0])+len(largerGrid[0])])\n",
    "    for i in range(len(outputGrid)):\n",
    "        outputGrid[i] = np.append(largerGrid[i],grid[i])\n",
    "    return outputGrid"
   ]
  },
  {
   "cell_type": "code",
   "execution_count": 34,
   "id": "d53cbeb3",
   "metadata": {},
   "outputs": [],
   "source": [
    "def generatePoints(n,r,xoffset = 0,yoffset = 0,rotation = 0,proportion = 1): ##Generates points of a regular polygon with n edges, radius of r*size\n",
    "    ##Size is grid size, 0 < r < 0.5, rotation rotates the shape from having a point vertically down\n",
    "    points = []\n",
    "    ystretch = np.sqrt(proportion)\n",
    "    xstretch = 1/np.sqrt(proportion)\n",
    "    for i in range(n):\n",
    "        y = int(ystretch*r*np.cos(i*2*np.pi/n + np.pi/n))\n",
    "        x = int(xstretch*r*np.sin(i*2*np.pi/n + np.pi/n))\n",
    "        nuy = int(x*np.sin(rotation)+y*np.cos(rotation) + yoffset)\n",
    "        nux = int(x*np.cos(rotation)-y*np.sin(rotation) + xoffset)\n",
    "        points.append([nuy,nux])\n",
    "    return points"
   ]
  },
  {
   "cell_type": "code",
   "execution_count": 56,
   "id": "83d129e3",
   "metadata": {},
   "outputs": [],
   "source": [
    "def getTimes(filename): ##Gets the time array from the TESS Light Curve\n",
    "    fp = open(\"./\"+filename+\".pkl\",\"rb\") ##Loading the file\n",
    "    data = pickle.load(fp)\n",
    "    fp.close()\n",
    "    \n",
    "    q = data[11]==0\n",
    "    times = data[6][q]\n",
    "    return times"
   ]
  },
  {
   "cell_type": "code",
   "execution_count": 61,
   "id": "9ec13b20",
   "metadata": {},
   "outputs": [],
   "source": [
    "def model(sides,radius,rotation,stretch,velocity, objects, separation, tRef, times):\n",
    "    points = generatePoints(sides,radius,(1/np.sqrt(stretch))*radius+1,50,rotation,stretch)\n",
    "    pointsList = [points]\n",
    "    planetGrid = fillShape(np.zeros([100,int(2*(1/np.sqrt(stretch))*radius + 2 + separation)]),pointsList)\n",
    "    planetGrid = duplicateShape(objects, planetGrid)\n",
    "    planet = TransitingImage(opacitymat = planetGrid, v = velocity, t_ref = tRef, t_arr = times)\n",
    "    planetLC, overlapTimes = planet.gen_LC(t_arr = times)\n",
    "    planet.plot_grid()\n",
    "    return planetLC, overlapTimes\n",
    "    "
   ]
  },
  {
   "cell_type": "code",
   "execution_count": 100,
   "id": "6ec50b07",
   "metadata": {},
   "outputs": [
    {
     "name": "stderr",
     "output_type": "stream",
     "text": [
      "/opt/conda/lib/python3.7/site-packages/ipykernel_launcher.py:7: DeprecationWarning: elementwise comparison failed; this will raise an error in the future.\n",
      "  import sys\n"
     ]
    },
    {
     "data": {
      "image/png": "[encoded data removed]",
      "text/plain": [
       "<Figure size 576x576 with 1 Axes>"
      ]
     },
     "metadata": {
      "needs_background": "light"
     },
     "output_type": "display_data"
    },
    {
     "data": {
      "image/png": "[encoded data removed]",
      "text/plain": [
       "<Figure size 432x288 with 1 Axes>"
      ]
     },
     "metadata": {
      "needs_background": "light"
     },
     "output_type": "display_data"
    }
   ],
   "source": [
    "times = getTimes('tesslc_148560484')\n",
    "midTime = np.percentile(times,33)\n",
    "planetLC, overlapTimes = model(3,5,0,1,1,1,150,midTime,times)\n",
    "plt.plot(overlapTimes, planetLC)\n",
    "plt.show()"
   ]
  },
  {
   "cell_type": "code",
   "execution_count": 89,
   "id": "3ce63654",
   "metadata": {},
   "outputs": [],
   "source": [
    "##"
   ]
  },
  {
   "cell_type": "code",
   "execution_count": null,
   "id": "637b7c51",
   "metadata": {},
   "outputs": [],
   "source": []
  }
 ],
 "metadata": {
  "environment": {
   "name": "common-cpu.m65",
   "type": "gcloud",
   "uri": "gcr.io/deeplearning-platform-release/base-cpu:m65"
  },
  "kernelspec": {
   "display_name": "Python 3",
   "language": "python",
   "name": "python3"
  },
  "language_info": {
   "codemirror_mode": {
    "name": "ipython",
    "version": 3
   },
   "file_extension": ".py",
   "mimetype": "text/x-python",
   "name": "python",
   "nbconvert_exporter": "python",
   "pygments_lexer": "ipython3",
   "version": "3.7.10"
  }
 },
 "nbformat": 4,
 "nbformat_minor": 5
}
