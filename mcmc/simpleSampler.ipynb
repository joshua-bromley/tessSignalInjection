{
 "cells": [
  {
   "cell_type": "code",
   "execution_count": 1,
   "id": "480577ba",
   "metadata": {},
   "outputs": [
    {
     "name": "stderr",
     "output_type": "stream",
     "text": [
      "\u001b[34m\u001b[1mwandb\u001b[0m: Currently logged in as: \u001b[33mjbromley\u001b[0m (use `wandb login --relogin` to force relogin)\n"
     ]
    },
    {
     "data": {
      "text/plain": [
       "True"
      ]
     },
     "execution_count": 1,
     "metadata": {},
     "output_type": "execute_result"
    }
   ],
   "source": [
    "##Preable\n",
    "from __future__ import division\n",
    "import numpy as np\n",
    "import pandas as pd\n",
    "from matplotlib.patches import Polygon\n",
    "import matplotlib.pyplot as plt\n",
    "from matplotlib import gridspec\n",
    "import copy\n",
    "import pickle\n",
    "import emcee\n",
    "import corner\n",
    "import wandb\n",
    "\n",
    "from EightBitTransit.cTransitingImage import TransitingImage\n",
    "from EightBitTransit.inversion import *\n",
    "from EightBitTransit.misc import *\n",
    "\n",
    "%matplotlib inline\n",
    "\n",
    "wandb.login()"
   ]
  },
  {
   "cell_type": "code",
   "execution_count": 2,
   "id": "a6aca448",
   "metadata": {},
   "outputs": [],
   "source": [
    "def fillShape(grid, shapes):\n",
    "    \"\"\"Creates a grid with the shape bound by given points filled in.\n",
    "    Points in the sublists are connected in the order they are given\n",
    "    Sublists are not connected to each other\n",
    "\n",
    "    Args:\n",
    "        grid (list) - list of grid coordinates as tuples\n",
    "        shapes (list) - list of shapes, each entry is a collection of points\n",
    "            defining the vertices of a polygon\n",
    "\n",
    "    Returns:\n",
    "    \"\"\"\n",
    "    # Create a grid to plot the outline on\n",
    "    # need a binary image to simulate transits\n",
    "    grid_df = pd.DataFrame(data=grid, columns=['x', 'y'])  # df is easier to work with\n",
    "    grid_shape = [grid_df.x.max(), grid_df.y.max()]\n",
    "    outline = np.zeros(grid_shape) \n",
    "\n",
    "    for shape in shapes:\n",
    "        points_df = pd.DataFrame(data=shape, columns=['x', 'y'])\n",
    "        polygon = Polygon(points_df)\n",
    "        test_inside_mask = polygon.contains_points(grid)\n",
    "        outline[grid_df[test_inside_mask].x, grid_df[test_inside_mask].y] = 1\n",
    "\n",
    "    return outline"
   ]
  },
  {
   "cell_type": "code",
   "execution_count": 3,
   "id": "002bfa68",
   "metadata": {},
   "outputs": [],
   "source": [
    "def generatePoints(n, xdim, ydim,xoffset = 0,yoffset = 0,rotation = 0): ##Generates points of a regular polygon with n edges, radius of r*size\n",
    "    ##Size is grid size, 0 < r < 0.5, rotation rotates the shape from having a point vertically down\n",
    "    points = []\n",
    "    for i in range(n):\n",
    "        y = int(ydim*np.cos(i*2*np.pi/n + np.pi/n))\n",
    "        x = int(xdim*np.sin(i*2*np.pi/n + np.pi/n))\n",
    "        nuy = int(x*np.sin(rotation)+y*np.cos(rotation) + yoffset)\n",
    "        nux = int(x*np.cos(rotation)-y*np.sin(rotation) + xoffset)\n",
    "        points.append([nuy,nux])\n",
    "    return points"
   ]
  },
  {
   "cell_type": "code",
   "execution_count": 4,
   "id": "dc5bb9d7",
   "metadata": {},
   "outputs": [],
   "source": [
    "def getData(filename): ##Gets the time array from the TESS Light Curve\n",
    "    fp = open(\"./\"+filename+\".pkl\",\"rb\") ##Loading the file\n",
    "    data = pickle.load(fp)\n",
    "    fp.close()\n",
    "    \n",
    "    q = data[11]==0\n",
    "    times = data[6][q]\n",
    "    flux = data[9][q]\n",
    "    maxFlux = np.median(flux)\n",
    "    flux /= maxFlux\n",
    "    err = np.ones_like(flux)*np.nanstd(np.diff(flux))\n",
    "    err /= np.sqrt(2)\n",
    "    return times, flux, err"
   ]
  },
  {
   "cell_type": "code",
   "execution_count": 5,
   "id": "3a07a6b6",
   "metadata": {},
   "outputs": [],
   "source": [
    "def extendLC(LC, overlapTimes, times):\n",
    "    extendedLC = np.ones(len(times))##Start with full flux curve\n",
    "    overlapIndex = 0\n",
    "    if len(overlapTimes) > 0:\n",
    "        for i in range(len(times)):##Iterate over the desired time array\n",
    "            if times[i] == overlapTimes[overlapIndex]: ##When the desired time has caught up to the light curve from ebt, use the ebt values\n",
    "                if overlapIndex < len(overlapTimes) - 2:##Only do this to the end of the ebt light curve\n",
    "                    overlapIndex += 1\n",
    "                    extendedLC[i]  = LC[overlapIndex]\n",
    "        \n",
    "    return extendedLC, times"
   ]
  },
  {
   "cell_type": "code",
   "execution_count": 6,
   "id": "911cbb4c",
   "metadata": {},
   "outputs": [],
   "source": [
    "def model(sides,xdim,ydim,rotation,velocity, tRef, times):\n",
    "    points = generatePoints(sides,xdim,ydim,xdim + 2,50,rotation)\n",
    "    pointsList = [points]\n",
    "    grid = []\n",
    "    for i in range(100):\n",
    "        for j in range(int(2*np.max((xdim,ydim))+4)):\n",
    "            grid.append((i,j))\n",
    "    planetGrid = fillShape(grid,pointsList)\n",
    "    planet = TransitingImage(opacitymat = planetGrid, v = velocity, t_ref = tRef, t_arr = times)\n",
    "    planetLC, overlapTimes = planet.gen_LC(t_arr = times)\n",
    "    planetLC, times = extendLC(planetLC, overlapTimes, times)\n",
    "    return planetLC"
   ]
  },
  {
   "cell_type": "code",
   "execution_count": 7,
   "id": "b74d26b2",
   "metadata": {},
   "outputs": [],
   "source": [
    "def logLikelihood(theta, times, flux, fluxErr):\n",
    "    sides, xdim, ydim, rotation, velocity, tRef = theta\n",
    "    fluxPredicted = model(int(sides), xdim, ydim,rotation,velocity,tRef,times)\n",
    "    lnl = -np.sum(((flux - fluxPredicted)**2) /(2*fluxErr**2))\n",
    "    return lnl"
   ]
  },
  {
   "cell_type": "code",
   "execution_count": 8,
   "id": "1f1fd2af",
   "metadata": {},
   "outputs": [],
   "source": [
    "def logPrior(theta, times):\n",
    "    sides, xdim, ydim, rotation, velocity, tRef = theta\n",
    "    lnPrior = 0\n",
    "    if times[0] < tRef < times[-1]:\n",
    "        lnPrior += np.log(1/(times[-1]-times[0]))\n",
    "    else:\n",
    "        return -np.inf\n",
    "    if  -np.pi  <= rotation < 3*np.pi:\n",
    "        lnPrior += np.log(1/(2*np.pi))\n",
    "    else:\n",
    "        return -np.inf\n",
    "    if 3 <= sides < 24 and 0 < xdim < 100 and 0 < ydim < 100 and 0 < velocity < 50:\n",
    "        lnPrior +=  2*np.log(1/100) + np.log(1/50) ##Sides removed\n",
    "    else:\n",
    "        return -np.inf\n",
    "    return lnPrior"
   ]
  },
  {
   "cell_type": "code",
   "execution_count": 9,
   "id": "e143e9b1",
   "metadata": {},
   "outputs": [],
   "source": [
    "def logProbability(theta, times, flux, fluxErr):\n",
    "    lp = logPrior(theta, times)\n",
    "    if not np.isfinite(lp):\n",
    "        return -np.inf\n",
    "    ll = logLikelihood(theta, times, flux, fluxErr)\n",
    "    return lp + ll"
   ]
  },
  {
   "cell_type": "code",
   "execution_count": null,
   "id": "45f391d3",
   "metadata": {},
   "outputs": [],
   "source": [
    "times, flux, fluxErr = getData(\"tesslc_13203100000000\")\n",
    "tRef = np.median(times)\n",
    "pos = [12, 5, 0, 1, 1, tRef]\n",
    "for i in range(3):\n",
    "    pos.append(pos)\n",
    "\n",
    "sampler = emcee.EnsembleSampler(8,6,logProbability, args=(times,flux,fluxErr))\n",
    "sampler.run_mcmc(pos,1000,progress = True);"
   ]
  },
  {
   "cell_type": "code",
   "execution_count": null,
   "id": "86696f45",
   "metadata": {},
   "outputs": [],
   "source": [
    "samples = sampler.get_chain()"
   ]
  },
  {
   "cell_type": "code",
   "execution_count": 10,
   "id": "fe519487",
   "metadata": {},
   "outputs": [],
   "source": [
    "def hRatio(theta0,theta1,flux, times, fluxErr):\n",
    "    lnProb0 = logProbability(theta0, times, flux, fluxErr)\n",
    "    lnProb1 = logProbability(theta1,times,flux,fluxErr)\n",
    "    ratio = np.exp(lnProb1 - lnProb0)\n",
    "    return ratio\n",
    "    "
   ]
  },
  {
   "cell_type": "code",
   "execution_count": 59,
   "id": "53a0a52b",
   "metadata": {},
   "outputs": [],
   "source": [
    "def proposeJump(theta, cov):\n",
    "    xdim, ydim, velocity, tRef = theta\n",
    "    newXDim = np.random.normal(xdim, cov[1])\n",
    "    newYDim = np.random.normal(ydim, cov[2])\n",
    "    newVelocity = np.random.normal(velocity,cov[4])\n",
    "    newTRef = np.random.normal(tRef,cov[5])\n",
    "    newTheta = (newXDim,newYDim,  newVelocity, newTRef)\n",
    "    return newTheta"
   ]
  },
  {
   "cell_type": "code",
   "execution_count": 66,
   "id": "ef0215e1",
   "metadata": {},
   "outputs": [],
   "source": [
    "def mhMcmc(theta0, cov, steps, times, flux, fluxErr):\n",
    "    \n",
    "    positions = np.zeros((steps+1,len(theta0)-2))\n",
    "    lnProbPos = -np.inf*np.ones(steps+1)\n",
    "    acceptanceRatio = np.zeros_like(lnProbPos)\n",
    "    accepted = 0\n",
    "    \n",
    "    positions[0] = [theta0[1],theta0[2],theta0[4],theta0[5]]\n",
    "    lnProbPos [0] = logProbability(theta0, times, flux, fluxErr)\n",
    "    \n",
    "    for step in np.arange(1,steps+1):\n",
    "        proposal = proposeJump(positions[step -1],cov)\n",
    "        lnProb0 = lnProbPos[step-1]\n",
    "        lnProb1 = logProbability([12,proposal[0],proposal[1],0,proposal[2],proposal[3]],times,flux,fluxErr)\n",
    "        ratio = np.exp(lnProb1 - lnProb0)\n",
    "        r = np.random.uniform()\n",
    "        #wandb.log({\"Proposal X Dimension\":proposal[1],\"Proposal Y Dimension\":proposal[2],\"Proposal Velocity\":proposal[4],\"Proposal tRef\":proposal[5],\"Proposal Log Probability\":lnProb1},commit = False)\n",
    "        \n",
    "        if ratio > r:\n",
    "            accepted += 1\n",
    "            positions[step] = proposal\n",
    "            lnProbPos[step] = lnProb1\n",
    "        else:\n",
    "            positions[step] = positions[step-1]\n",
    "            lnProbPos[step] = lnProbPos[step-1]\n",
    "        \n",
    "        acceptanceRatio[step] = float(accepted)/steps\n",
    "        #wandb.log({\"X Dimension\":positions[step][1],\"Y Dimension\":positions[step][2],\"Velocity\":positions[step][4],\"tRef\":positions[step][5],\"Log Probability\":lnProbPos[step],\"Acceptance Ratio\":acceptanceRatio[step]})\n",
    "    return (positions, lnProbPos, acceptanceRatio)"
   ]
  },
  {
   "cell_type": "code",
   "execution_count": 13,
   "id": "26c7c2e6",
   "metadata": {},
   "outputs": [],
   "source": [
    "def proposeJumptRef(theta, cov):\n",
    "    sides, radius, rotation, stretch, velocity, tRef = theta\n",
    "    newSides = sides #int(np.random.normal(sides, cov[0]))\n",
    "    \n",
    "    newVelocity = velocity#np.random.normal(velocity,cov[4])\n",
    "    newTRef = np.random.normal(tRef,cov[5])\n",
    "    newTheta = (newSides, newRadius, newRotation, newStretch, newVelocity, newTRef)\n",
    "    return newTheta"
   ]
  },
  {
   "cell_type": "code",
   "execution_count": 61,
   "id": "3a6077ae",
   "metadata": {},
   "outputs": [],
   "source": [
    "def tRefMcmc(theta0, cov, steps, times, flux, fluxErr):\n",
    "    \n",
    "    positions = np.zeros((steps+1,len(theta0)-2))\n",
    "    lnProbPos = -np.inf*np.ones(steps+1)\n",
    "    acceptanceRatio = np.zeros_like(lnProbPos)\n",
    "    accepted = 0\n",
    "    \n",
    "    positions[0] = [theta0[1],theta0[2],theta0[4],theta0[5]]\n",
    "    lnProbPos [0] = logProbability(theta0, times, flux, fluxErr)\n",
    "    \n",
    "    for step in np.arange(1,steps+1):\n",
    "        proposal = proposeJumptRef(positions[step -1],cov)\n",
    "        proposal = [12,proposal[0],propoal[1],0,proposal[2],proposal[3]]\n",
    "        lnProb0 = lnProbPos[step-1]\n",
    "        lnProb1 = logProbability(proposal,times,flux,fluxErr)\n",
    "        ratio = np.exp(lnProb1 - lnProb0)\n",
    "        r = np.random.uniform() \n",
    "        \n",
    "        if ratio > r:\n",
    "            accepted += 1\n",
    "            positions[step] = [proposal[1],proposal[2],proposal[4],proposal[5]]\n",
    "            lnProbPos[step] = lnProb1\n",
    "        else:\n",
    "            positions[step] = positions[step-1]\n",
    "            lnProbPos[step] = lnProbPos[step-1]\n",
    "        \n",
    "        acceptanceRatio[step] = float(accepted)/steps\n",
    "    return (positions, lnProbPos, acceptanceRatio)"
   ]
  },
  {
   "cell_type": "code",
   "execution_count": 107,
   "id": "f30f9739",
   "metadata": {},
   "outputs": [
    {
     "name": "stderr",
     "output_type": "stream",
     "text": [
      "/opt/conda/lib/python3.7/site-packages/ipykernel_launcher.py:10: DeprecationWarning: elementwise comparison failed; this will raise an error in the future.\n",
      "  # Remove the CWD from sys.path while we load stuff.\n",
      "/opt/conda/lib/python3.7/site-packages/ipykernel_launcher.py:15: RuntimeWarning: overflow encountered in exp\n",
      "  from ipykernel import kernelapp as app\n"
     ]
    },
    {
     "name": "stdout",
     "output_type": "stream",
     "text": [
      "[   2.43505585   17.49127989    1.89480184 1557.93230952]\n"
     ]
    }
   ],
   "source": [
    "times, flux, fluxErr = getData(\"tesslc_1420332000000\")\n",
    "cov = [0,1,1,1,0.1,np.std(times)/10]\n",
    "theta0 = [12,4,10,0,2,1559]\n",
    "#wandb.init(project = \"mcmc\", config={\"Sides\":theta0[0],\"Radius\":cov[1],\"Rotation\":cov[2],\"Stretch\":cov[3],\"Velocity\":cov[4],\"tRef\":cov[5]})\n",
    "positions, lnProbPos, acceptanceRatio = mhMcmc(theta0, cov,1000, times, flux, fluxErr)\n",
    "##wandb.finish()\n",
    "print(positions[-1])"
   ]
  },
  {
   "cell_type": "code",
   "execution_count": 101,
   "id": "16f91cd9",
   "metadata": {},
   "outputs": [],
   "source": [
    "#wandb.finish()"
   ]
  },
  {
   "cell_type": "code",
   "execution_count": 108,
   "id": "2ce88765",
   "metadata": {},
   "outputs": [
    {
     "data": {
      "image/png": "[encoded data removed]",
      "text/plain": [
       "<Figure size 720x864 with 4 Axes>"
      ]
     },
     "metadata": {
      "needs_background": "light"
     },
     "output_type": "display_data"
    }
   ],
   "source": [
    "fig, ax = plt.subplots(4,1, figsize = (10,12))\n",
    "for i in range(4):\n",
    "    ax[i].plot(positions[:,i],'o-')\n",
    "fig.tight_layout()\n",
    "plt.show()\n"
   ]
  },
  {
   "cell_type": "code",
   "execution_count": 111,
   "id": "fe151992",
   "metadata": {},
   "outputs": [
    {
     "data": {
      "image/png": "[encoded data removed]",
      "text/plain": [
       "<Figure size 864x432 with 1 Axes>"
      ]
     },
     "metadata": {
      "needs_background": "light"
     },
     "output_type": "display_data"
    }
   ],
   "source": [
    "fig, ax = plt.subplots(figsize = (12,6))\n",
    "xdim, ydim, velocity, tRef = positions[-1]\n",
    "points = generatePoints(12,xdim, ydim,xdim + 2,50,)\n",
    "pointsList = [points]\n",
    "grid = []\n",
    "\n",
    "for i in range(100):\n",
    "    for j in range(30):\n",
    "        grid.append((i,j))\n",
    "planetGrid = fillShape(grid,pointsList)\n",
    "\n",
    "for position in positions:\n",
    "    xdim, ydim, velocity, tRef = position\n",
    "    points = generatePoints(12,xdim, ydim,xdim + 2,50,)\n",
    "    pointsList = [points]\n",
    "    grid = []\n",
    "    for i in range(100):\n",
    "        for j in range(30):\n",
    "            grid.append((i,j))\n",
    "    planetGrid += fillShape(grid,pointsList)\n",
    "\n",
    "ax.imshow(planetGrid, cmap = 'Greys')\n",
    "plt.show()"
   ]
  },
  {
   "cell_type": "code",
   "execution_count": 112,
   "id": "477293e2",
   "metadata": {},
   "outputs": [
    {
     "name": "stderr",
     "output_type": "stream",
     "text": [
      "/opt/conda/lib/python3.7/site-packages/ipykernel_launcher.py:2: DeprecationWarning: elementwise comparison failed; this will raise an error in the future.\n",
      "  \n"
     ]
    },
    {
     "data": {
      "image/png": "[encoded data removed]",
      "text/plain": [
       "<Figure size 432x288 with 1 Axes>"
      ]
     },
     "metadata": {
      "needs_background": "light"
     },
     "output_type": "display_data"
    }
   ],
   "source": [
    "planet = TransitingImage(opacitymat = planetGrid, v = velocity, t_ref = tRef, t_arr = times)\n",
    "planetLC, overlapTimes = planet.gen_LC(t_arr = times)\n",
    "planetLC, newTimes = extendLC(planetLC, overlapTimes, times)\n",
    "fig, ax = plt.subplots()\n",
    "ax.plot(times,flux)\n",
    "ax.plot(times, planetLC)\n",
    "plt.show()"
   ]
  },
  {
   "cell_type": "code",
   "execution_count": 113,
   "id": "847e88ec",
   "metadata": {},
   "outputs": [
    {
     "name": "stderr",
     "output_type": "stream",
     "text": [
      "WARNING:emcee.autocorr:The chain is shorter than 50 times the integrated autocorrelation time for 1 parameter(s). Use this estimate with caution and run a longer chain!\n",
      "N/50 = 100;\n",
      "tau: [128.18187024]\n",
      "WARNING:emcee.autocorr:The chain is shorter than 50 times the integrated autocorrelation time for 1 parameter(s). Use this estimate with caution and run a longer chain!\n",
      "N/50 = 100;\n",
      "tau: [326.00549145]\n",
      "WARNING:emcee.autocorr:The chain is shorter than 50 times the integrated autocorrelation time for 1 parameter(s). Use this estimate with caution and run a longer chain!\n",
      "N/50 = 100;\n",
      "tau: [350.98558763]\n",
      "WARNING:emcee.autocorr:The chain is shorter than 50 times the integrated autocorrelation time for 1 parameter(s). Use this estimate with caution and run a longer chain!\n",
      "N/50 = 100;\n",
      "tau: [156.65570158]\n"
     ]
    },
    {
     "name": "stdout",
     "output_type": "stream",
     "text": [
      "[128.18187024]\n",
      "[326.00549145]\n",
      "[350.98558763]\n",
      "[156.65570158]\n"
     ]
    },
    {
     "data": {
      "image/png": "[encoded data removed]",
      "text/plain": [
       "<Figure size 432x288 with 4 Axes>"
      ]
     },
     "metadata": {
      "needs_background": "light"
     },
     "output_type": "display_data"
    }
   ],
   "source": [
    "fig, ax = plt.subplots(4,1)\n",
    "for i in range(4):\n",
    "    acf = emcee.autocorr.function_1d(positions[:,i])\n",
    "    ax[i].plot(acf)\n",
    "    act = emcee.autocorr.integrated_time(positions[:,i], quiet = True)\n",
    "    print(act)\n",
    "plt.show()"
   ]
  },
  {
   "cell_type": "code",
   "execution_count": 114,
   "id": "5a44588e",
   "metadata": {},
   "outputs": [
    {
     "name": "stderr",
     "output_type": "stream",
     "text": [
      "WARNING:root:Too few points to create valid contours\n",
      "WARNING:root:Too few points to create valid contours\n",
      "WARNING:root:Too few points to create valid contours\n",
      "WARNING:root:Too few points to create valid contours\n",
      "WARNING:root:Too few points to create valid contours\n",
      "WARNING:root:Too few points to create valid contours\n"
     ]
    },
    {
     "data": {
      "image/png": "[encoded data removed]",
      "text/plain": [
       "<Figure size 698.4x698.4 with 16 Axes>"
      ]
     },
     "metadata": {
      "needs_background": "light"
     },
     "output_type": "display_data"
    }
   ],
   "source": [
    "figure = corner.corner(positions, labels=[\"X Dimension\", \"Y Dimension\", \"Velocity\", \"Reference Time\"])"
   ]
  },
  {
   "cell_type": "code",
   "execution_count": null,
   "id": "35dbd014",
   "metadata": {},
   "outputs": [],
   "source": []
  }
 ],
 "metadata": {
  "environment": {
   "name": "common-cpu.m65",
   "type": "gcloud",
   "uri": "gcr.io/deeplearning-platform-release/base-cpu:m65"
  },
  "kernelspec": {
   "display_name": "Python [conda env:root] *",
   "language": "python",
   "name": "conda-root-py"
  },
  "language_info": {
   "codemirror_mode": {
    "name": "ipython",
    "version": 3
   },
   "file_extension": ".py",
   "mimetype": "text/x-python",
   "name": "python",
   "nbconvert_exporter": "python",
   "pygments_lexer": "ipython3",
   "version": "3.7.10"
  }
 },
 "nbformat": 4,
 "nbformat_minor": 5
}
