{
 "cells": [
  {
   "cell_type": "code",
   "execution_count": 2,
   "id": "c740a1f1",
   "metadata": {},
   "outputs": [
    {
     "name": "stderr",
     "output_type": "stream",
     "text": [
      "\u001b[34m\u001b[1mwandb\u001b[0m: Currently logged in as: \u001b[33mjbromley\u001b[0m (use `wandb login --relogin` to force relogin)\n"
     ]
    },
    {
     "data": {
      "text/plain": [
       "True"
      ]
     },
     "execution_count": 2,
     "metadata": {},
     "output_type": "execute_result"
    }
   ],
   "source": [
    "##Preable\n",
    "from __future__ import division\n",
    "import numpy as np\n",
    "import pandas as pd\n",
    "from matplotlib.patches import Polygon\n",
    "import matplotlib.pyplot as plt\n",
    "from matplotlib import gridspec\n",
    "import copy\n",
    "import pickle\n",
    "import emcee\n",
    "import corner\n",
    "import wandb\n",
    "\n",
    "from EightBitTransit.cTransitingImage import TransitingImage\n",
    "from EightBitTransit.inversion import *\n",
    "from EightBitTransit.misc import *\n",
    "\n",
    "%matplotlib inline\n",
    "\n",
    "wandb.login()"
   ]
  },
  {
   "cell_type": "code",
   "execution_count": 3,
   "id": "53e52f26",
   "metadata": {},
   "outputs": [],
   "source": [
    "def fillShape(grid, shapes):\n",
    "    \"\"\"Creates a grid with the shape bound by given points filled in.\n",
    "    Points in the sublists are connected in the order they are given\n",
    "    Sublists are not connected to each other\n",
    "\n",
    "    Args:\n",
    "        grid (list) - list of grid coordinates as tuples\n",
    "        shapes (list) - list of shapes, each entry is a collection of points\n",
    "            defining the vertices of a polygon\n",
    "\n",
    "    Returns:\n",
    "    \"\"\"\n",
    "    # Create a grid to plot the outline on\n",
    "    # need a binary image to simulate transits\n",
    "    grid_df = pd.DataFrame(data=grid, columns=['x', 'y'])  # df is easier to work with\n",
    "    grid_shape = [grid_df.x.max(), grid_df.y.max()]\n",
    "    outline = np.zeros(grid_shape) \n",
    "\n",
    "    for shape in shapes:\n",
    "        points_df = pd.DataFrame(data=shape, columns=['x', 'y'])\n",
    "        polygon = Polygon(points_df)\n",
    "        test_inside_mask = polygon.contains_points(grid)\n",
    "        outline[grid_df[test_inside_mask].x, grid_df[test_inside_mask].y] = 1\n",
    "\n",
    "    return outline"
   ]
  },
  {
   "cell_type": "code",
   "execution_count": 4,
   "id": "d43eaed4",
   "metadata": {},
   "outputs": [],
   "source": [
    "def generatePoints(n,r,xoffset = 0,yoffset = 0,rotation = 0,proportion = 1): ##Generates points of a regular polygon with n edges, radius of r*size\n",
    "    ##Size is grid size, 0 < r < 0.5, rotation rotates the shape from having a point vertically down\n",
    "    points = []\n",
    "    ystretch = np.sqrt(proportion)\n",
    "    xstretch = 1/np.sqrt(proportion)\n",
    "    for i in range(n):\n",
    "        y = int(ystretch*r*np.cos(i*2*np.pi/n + np.pi/n))\n",
    "        x = int(xstretch*r*np.sin(i*2*np.pi/n + np.pi/n))\n",
    "        nuy = int(x*np.sin(rotation)+y*np.cos(rotation) + yoffset)\n",
    "        nux = int(x*np.cos(rotation)-y*np.sin(rotation) + xoffset)\n",
    "        points.append([nuy,nux])\n",
    "    return points"
   ]
  },
  {
   "cell_type": "code",
   "execution_count": 5,
   "id": "8994ed7d",
   "metadata": {},
   "outputs": [],
   "source": [
    "def getData(filename): ##Gets the time array from the TESS Light Curve\n",
    "    fp = open(\"./\"+filename+\".pkl\",\"rb\") ##Loading the file\n",
    "    data = pickle.load(fp)\n",
    "    fp.close()\n",
    "    \n",
    "    q = data[11]==0\n",
    "    times = data[6][q]\n",
    "    flux = data[9][q]\n",
    "    maxFlux = np.median(flux)\n",
    "    flux /= maxFlux\n",
    "    err = np.ones_like(flux)*np.nanstd(np.diff(flux))\n",
    "    err /= np.sqrt(2)\n",
    "    return times, flux, err"
   ]
  },
  {
   "cell_type": "code",
   "execution_count": 6,
   "id": "1a0b936e",
   "metadata": {},
   "outputs": [],
   "source": [
    "def extendLC(LC, overlapTimes, times):\n",
    "    extendedLC = np.ones(len(times))##Start with full flux curve\n",
    "    overlapIndex = 0\n",
    "    if len(overlapTimes) > 0:\n",
    "        for i in range(len(times)):##Iterate over the desired time array\n",
    "            if times[i] == overlapTimes[overlapIndex]: ##When the desired time has caught up to the light curve from ebt, use the ebt values\n",
    "                if overlapIndex < len(overlapTimes) - 2:##Only do this to the end of the ebt light curve\n",
    "                    overlapIndex += 1\n",
    "                    extendedLC[i]  = LC[overlapIndex]\n",
    "        \n",
    "    return extendedLC, times"
   ]
  },
  {
   "cell_type": "code",
   "execution_count": 7,
   "id": "3c6caf68",
   "metadata": {},
   "outputs": [],
   "source": [
    "def model(sides,radius,rotation,stretch,velocity, tRef, times):\n",
    "    points = generatePoints(sides,radius,(1/np.sqrt(stretch))*radius+1,50,rotation,stretch)\n",
    "    pointsList = [points]\n",
    "    grid = []\n",
    "    for i in range(100):\n",
    "        for j in range(int(3*(1/np.sqrt(stretch))*radius + 4)):\n",
    "            grid.append((i,j))\n",
    "    planetGrid = fillShape(grid,pointsList)\n",
    "    planet = TransitingImage(opacitymat = planetGrid, v = velocity, t_ref = tRef, t_arr = times)\n",
    "    planetLC, overlapTimes = planet.gen_LC(t_arr = times)\n",
    "    planetLC, times = extendLC(planetLC, overlapTimes, times)\n",
    "    return planetLC"
   ]
  },
  {
   "cell_type": "code",
   "execution_count": 8,
   "id": "e75b90b5",
   "metadata": {},
   "outputs": [],
   "source": [
    "def logLikelihood(theta, times, flux, fluxErr):\n",
    "    sides, radius, rotation, stretch, velocity, tRef = theta\n",
    "    fluxPredicted = model(int(sides), radius,rotation,stretch,velocity,tRef,times)\n",
    "    lnl = -np.sum(((flux - fluxPredicted)**2) /(2*fluxErr**2))\n",
    "    return lnl"
   ]
  },
  {
   "cell_type": "code",
   "execution_count": 9,
   "id": "d378df00",
   "metadata": {},
   "outputs": [],
   "source": [
    "def logPrior(theta, times):\n",
    "    sides, radius, rotation, stretch, velocity, tRef = theta\n",
    "    lnPrior = 0\n",
    "    if times[0] < tRef < times[-1]:\n",
    "        lnPrior += np.log(1/(times[-1]-times[0]))\n",
    "    else:\n",
    "        return -np.inf\n",
    "    if  -np.pi  <= rotation < 3*np.pi and 0.1 < stretch < 10:\n",
    "        lnPrior += np.log(1/(2*np.pi)) + 1/2\n",
    "    else:\n",
    "        return -np.inf\n",
    "    if 3 <= sides < 24 and 0 < radius < 50 and 0 < velocity < 50:\n",
    "        lnPrior +=  np.log(1/50) + np.log(1/50) ##Sides removed\n",
    "    else:\n",
    "        return -np.inf\n",
    "    return lnPrior\n",
    "        "
   ]
  },
  {
   "cell_type": "code",
   "execution_count": 10,
   "id": "80e5a6a6",
   "metadata": {},
   "outputs": [],
   "source": [
    "def logProbability(theta, times, flux, fluxErr):\n",
    "    lp = logPrior(theta, times)\n",
    "    if not np.isfinite(lp):\n",
    "        return -np.inf\n",
    "    ll = logLikelihood(theta, times, flux, fluxErr)\n",
    "    return lp + ll"
   ]
  },
  {
   "cell_type": "code",
   "execution_count": null,
   "id": "947492b1",
   "metadata": {},
   "outputs": [],
   "source": [
    "times, flux, fluxErr = getData(\"tesslc_13203100000000\")\n",
    "tRef = np.median(times)\n",
    "pos = [12, 5, 0, 1, 1, tRef]\n",
    "for i in range(3):\n",
    "    pos.append(pos)\n",
    "\n",
    "sampler = emcee.EnsembleSampler(8,6,logProbability, args=(times,flux,fluxErr))\n",
    "sampler.run_mcmc(pos,1000,progress = True);"
   ]
  },
  {
   "cell_type": "code",
   "execution_count": null,
   "id": "dc0c2fcc",
   "metadata": {},
   "outputs": [],
   "source": [
    "samples = sampler.get_chain()"
   ]
  },
  {
   "cell_type": "code",
   "execution_count": 11,
   "id": "d6fddb77",
   "metadata": {},
   "outputs": [],
   "source": [
    "def hRatio(theta0,theta1,flux, times, fluxErr):\n",
    "    lnProb0 = logProbability(theta0, times, flux, fluxErr)\n",
    "    lnProb1 = logProbability(theta1,times,flux,fluxErr)\n",
    "    ratio = np.exp(lnProb1 - lnProb0)\n",
    "    return ratio\n",
    "    "
   ]
  },
  {
   "cell_type": "code",
   "execution_count": 12,
   "id": "90be3d2e",
   "metadata": {},
   "outputs": [],
   "source": [
    "def proposeJump(theta, cov):\n",
    "    sides, radius, rotation, stretch, velocity, tRef = theta\n",
    "    newSides = sides #int(np.random.normal(sides, cov[0]))\n",
    "    newRadius = np.random.normal(radius, cov[1])\n",
    "    newRotation = np.random.normal(rotation, cov[2])\n",
    "    newStretch = np.log(np.random.normal(np.exp(stretch),cov[3]))\n",
    "    newVelocity = np.random.normal(velocity,cov[4])\n",
    "    newTRef = np.random.normal(tRef,cov[5])\n",
    "    newTheta = (newSides, newRadius, newRotation, newStretch, newVelocity, newTRef)\n",
    "    return newTheta"
   ]
  },
  {
   "cell_type": "code",
   "execution_count": 18,
   "id": "4f2baa8b",
   "metadata": {},
   "outputs": [],
   "source": [
    "def mhMcmc(theta0, cov, steps, times, flux, fluxErr):\n",
    "    \n",
    "    positions = np.zeros((steps+1,len(theta0)))\n",
    "    lnProbPos = -np.inf*np.ones(steps+1)\n",
    "    acceptanceRatio = np.zeros_like(lnProbPos)\n",
    "    accepted = 0\n",
    "    \n",
    "    positions[0] = theta0\n",
    "    lnProbPos [0] = logProbability(theta0, times, flux, fluxErr)\n",
    "    \n",
    "    for step in np.arange(1,steps+1):\n",
    "        proposal = proposeJump(positions[step -1],cov)\n",
    "        lnProb0 = lnProbPos[step-1]\n",
    "        lnProb1 = logProbability(proposal,times,flux,fluxErr)\n",
    "        ratio = np.exp(lnProb1 - lnProb0)\n",
    "        r = np.random.uniform()\n",
    "        wandb.log({\"Proposal Radius\":proposal[1],\"Proposal Rotation\":proposal[2],\"Proposal Stretch\":proposal[3],\"Proposal Velocity\":proposal[4],\"Proposal tRef\":proposal[5],\"Proposal Log Probability\":lnProb1})\n",
    "        \n",
    "        if ratio > r:\n",
    "            accepted += 1\n",
    "            positions[step] = proposal\n",
    "            lnProbPos[step] = lnProb1\n",
    "        else:\n",
    "            positions[step] = positions[step-1]\n",
    "            lnProbPos[step] = lnProbPos[step-1]\n",
    "        \n",
    "        acceptanceRatio[step] = float(accepted)/steps\n",
    "        wandb.log({\"Radius\":positions[step][1],\"Rotation\":positions[step][2],\"Stretch\":positions[step][3],\"Velocity\":positions[step][4],\"tRef\":positions[step][5],\"Log Probability\":lnProbPos[step],\"Acceptance Ratio\":acceptanceRatio[step]})\n",
    "    return (positions, lnProbPos, acceptanceRatio)"
   ]
  },
  {
   "cell_type": "code",
   "execution_count": 19,
   "id": "bbc7b8e1",
   "metadata": {},
   "outputs": [
    {
     "data": {
      "text/html": [
       "Finishing last run (ID:h3fjbg26) before initializing another..."
      ],
      "text/plain": [
       "<IPython.core.display.HTML object>"
      ]
     },
     "metadata": {},
     "output_type": "display_data"
    },
    {
     "data": {
      "text/html": [
       "<br/>Waiting for W&B process to finish, PID 4021<br/>Program ended successfully."
      ],
      "text/plain": [
       "<IPython.core.display.HTML object>"
      ]
     },
     "metadata": {},
     "output_type": "display_data"
    },
    {
     "data": {
      "application/vnd.jupyter.widget-view+json": {
       "model_id": "",
       "version_major": 2,
       "version_minor": 0
      },
      "text/plain": [
       "VBox(children=(Label(value=' 0.00MB of 0.00MB uploaded (0.00MB deduped)\\r'), FloatProgress(value=1.0, max=1.0)…"
      ]
     },
     "metadata": {},
     "output_type": "display_data"
    },
    {
     "data": {
      "text/html": [
       "Find user logs for this run at: <code>/home/jupyter/tessSignalInjection/mcmc/wandb/run-20210715_185604-h3fjbg26/logs/debug.log</code>"
      ],
      "text/plain": [
       "<IPython.core.display.HTML object>"
      ]
     },
     "metadata": {},
     "output_type": "display_data"
    },
    {
     "data": {
      "text/html": [
       "Find internal logs for this run at: <code>/home/jupyter/tessSignalInjection/mcmc/wandb/run-20210715_185604-h3fjbg26/logs/debug-internal.log</code>"
      ],
      "text/plain": [
       "<IPython.core.display.HTML object>"
      ]
     },
     "metadata": {},
     "output_type": "display_data"
    },
    {
     "data": {
      "text/html": [
       "<h3>Run summary:</h3><br/><style>\n",
       "    table.wandb td:nth-child(1) { padding: 0 10px; text-align: right }\n",
       "    </style><table class=\"wandb\">\n",
       "<tr><td>Proposal Radius</td><td>4.90883</td></tr><tr><td>Proposal Rotation</td><td>3.20154</td></tr><tr><td>Proposal Stretch</td><td>1.00386</td></tr><tr><td>Proposal Velocity</td><td>1.34131</td></tr><tr><td>Proposal tRef</td><td>1556.6955</td></tr><tr><td>Proposal Log Probability</td><td>-36652.61536</td></tr><tr><td>_runtime</td><td>6</td></tr><tr><td>_timestamp</td><td>1626375370</td></tr><tr><td>_step</td><td>0</td></tr></table>"
      ],
      "text/plain": [
       "<IPython.core.display.HTML object>"
      ]
     },
     "metadata": {},
     "output_type": "display_data"
    },
    {
     "data": {
      "text/html": [
       "<h3>Run history:</h3><br/><style>\n",
       "    table.wandb td:nth-child(1) { padding: 0 10px; text-align: right }\n",
       "    </style><table class=\"wandb\">\n",
       "<tr><td>Proposal Radius</td><td>▁</td></tr><tr><td>Proposal Rotation</td><td>▁</td></tr><tr><td>Proposal Stretch</td><td>▁</td></tr><tr><td>Proposal Velocity</td><td>▁</td></tr><tr><td>Proposal tRef</td><td>▁</td></tr><tr><td>Proposal Log Probability</td><td>▁</td></tr><tr><td>_runtime</td><td>▁</td></tr><tr><td>_timestamp</td><td>▁</td></tr><tr><td>_step</td><td>▁</td></tr></table><br/>"
      ],
      "text/plain": [
       "<IPython.core.display.HTML object>"
      ]
     },
     "metadata": {},
     "output_type": "display_data"
    },
    {
     "data": {
      "text/html": [
       "Synced 5 W&B file(s), 0 media file(s), 0 artifact file(s) and 0 other file(s)"
      ],
      "text/plain": [
       "<IPython.core.display.HTML object>"
      ]
     },
     "metadata": {},
     "output_type": "display_data"
    },
    {
     "data": {
      "text/html": [
       "\n",
       "                    <br/>Synced <strong style=\"color:#cdcd00\">warm-star-1</strong>: <a href=\"https://wandb.ai/jbromley/mcmc/runs/h3fjbg26\" target=\"_blank\">https://wandb.ai/jbromley/mcmc/runs/h3fjbg26</a><br/>\n",
       "                "
      ],
      "text/plain": [
       "<IPython.core.display.HTML object>"
      ]
     },
     "metadata": {},
     "output_type": "display_data"
    },
    {
     "data": {
      "text/html": [
       "...Successfully finished last run (ID:h3fjbg26). Initializing new run:<br/><br/>"
      ],
      "text/plain": [
       "<IPython.core.display.HTML object>"
      ]
     },
     "metadata": {},
     "output_type": "display_data"
    },
    {
     "data": {
      "text/html": [
       "\n",
       "                Tracking run with wandb version 0.10.33<br/>\n",
       "                Syncing run <strong style=\"color:#cdcd00\">snowy-darkness-2</strong> to <a href=\"https://wandb.ai\" target=\"_blank\">Weights & Biases</a> <a href=\"https://docs.wandb.com/integrations/jupyter.html\" target=\"_blank\">(Documentation)</a>.<br/>\n",
       "                Project page: <a href=\"https://wandb.ai/jbromley/mcmc\" target=\"_blank\">https://wandb.ai/jbromley/mcmc</a><br/>\n",
       "                Run page: <a href=\"https://wandb.ai/jbromley/mcmc/runs/1ywtlphd\" target=\"_blank\">https://wandb.ai/jbromley/mcmc/runs/1ywtlphd</a><br/>\n",
       "                Run data is saved locally in <code>/home/jupyter/tessSignalInjection/mcmc/wandb/run-20210715_185627-1ywtlphd</code><br/><br/>\n",
       "            "
      ],
      "text/plain": [
       "<IPython.core.display.HTML object>"
      ]
     },
     "metadata": {},
     "output_type": "display_data"
    },
    {
     "name": "stderr",
     "output_type": "stream",
     "text": [
      "/opt/conda/lib/python3.7/site-packages/ipykernel_launcher.py:10: DeprecationWarning: elementwise comparison failed; this will raise an error in the future.\n",
      "  # Remove the CWD from sys.path while we load stuff.\n",
      "/opt/conda/lib/python3.7/site-packages/ipykernel_launcher.py:15: RuntimeWarning: overflow encountered in exp\n",
      "  from ipykernel import kernelapp as app\n"
     ]
    },
    {
     "ename": "KeyboardInterrupt",
     "evalue": "",
     "output_type": "error",
     "traceback": [
      "\u001b[0;31m---------------------------------------------------------------------------\u001b[0m",
      "\u001b[0;31mKeyboardInterrupt\u001b[0m                         Traceback (most recent call last)",
      "\u001b[0;32m<ipython-input-19-de5ebbe38c86>\u001b[0m in \u001b[0;36m<module>\u001b[0;34m\u001b[0m\n\u001b[1;32m      4\u001b[0m \u001b[0mcov\u001b[0m \u001b[0;34m=\u001b[0m \u001b[0;34m[\u001b[0m\u001b[0;36m0.1\u001b[0m\u001b[0;34m,\u001b[0m\u001b[0;36m0.25\u001b[0m\u001b[0;34m,\u001b[0m\u001b[0mnp\u001b[0m\u001b[0;34m.\u001b[0m\u001b[0mpi\u001b[0m\u001b[0;34m/\u001b[0m\u001b[0;36m48\u001b[0m\u001b[0;34m,\u001b[0m\u001b[0;36m0.025\u001b[0m\u001b[0;34m,\u001b[0m\u001b[0;36m0.125\u001b[0m\u001b[0;34m,\u001b[0m\u001b[0mnp\u001b[0m\u001b[0;34m.\u001b[0m\u001b[0mstd\u001b[0m\u001b[0;34m(\u001b[0m\u001b[0mtimes\u001b[0m\u001b[0;34m)\u001b[0m\u001b[0;34m/\u001b[0m\u001b[0;36m2\u001b[0m\u001b[0;34m]\u001b[0m\u001b[0;34m\u001b[0m\u001b[0;34m\u001b[0m\u001b[0m\n\u001b[1;32m      5\u001b[0m \u001b[0mwandb\u001b[0m\u001b[0;34m.\u001b[0m\u001b[0minit\u001b[0m\u001b[0;34m(\u001b[0m\u001b[0mproject\u001b[0m \u001b[0;34m=\u001b[0m \u001b[0;34m\"mcmc\"\u001b[0m\u001b[0;34m,\u001b[0m \u001b[0mconfig\u001b[0m\u001b[0;34m=\u001b[0m\u001b[0;34m{\u001b[0m\u001b[0;34m\"Sides\"\u001b[0m\u001b[0;34m:\u001b[0m\u001b[0mtheta0\u001b[0m\u001b[0;34m[\u001b[0m\u001b[0;36m0\u001b[0m\u001b[0;34m]\u001b[0m\u001b[0;34m,\u001b[0m\u001b[0;34m\"Radius\"\u001b[0m\u001b[0;34m:\u001b[0m\u001b[0mcov\u001b[0m\u001b[0;34m[\u001b[0m\u001b[0;36m1\u001b[0m\u001b[0;34m]\u001b[0m\u001b[0;34m,\u001b[0m\u001b[0;34m\"Rotation\"\u001b[0m\u001b[0;34m:\u001b[0m\u001b[0mcov\u001b[0m\u001b[0;34m[\u001b[0m\u001b[0;36m2\u001b[0m\u001b[0;34m]\u001b[0m\u001b[0;34m,\u001b[0m\u001b[0;34m\"Stretch\"\u001b[0m\u001b[0;34m:\u001b[0m\u001b[0mcov\u001b[0m\u001b[0;34m[\u001b[0m\u001b[0;36m3\u001b[0m\u001b[0;34m]\u001b[0m\u001b[0;34m,\u001b[0m\u001b[0;34m\"Velocity\"\u001b[0m\u001b[0;34m:\u001b[0m\u001b[0mcov\u001b[0m\u001b[0;34m[\u001b[0m\u001b[0;36m4\u001b[0m\u001b[0;34m]\u001b[0m\u001b[0;34m,\u001b[0m\u001b[0;34m\"tRef\"\u001b[0m\u001b[0;34m:\u001b[0m\u001b[0mcov\u001b[0m\u001b[0;34m[\u001b[0m\u001b[0;36m5\u001b[0m\u001b[0;34m]\u001b[0m\u001b[0;34m}\u001b[0m\u001b[0;34m)\u001b[0m\u001b[0;34m\u001b[0m\u001b[0;34m\u001b[0m\u001b[0m\n\u001b[0;32m----> 6\u001b[0;31m \u001b[0mpositions\u001b[0m\u001b[0;34m,\u001b[0m \u001b[0mlnProbPos\u001b[0m\u001b[0;34m,\u001b[0m \u001b[0macceptanceRatio\u001b[0m \u001b[0;34m=\u001b[0m \u001b[0mmhMcmc\u001b[0m\u001b[0;34m(\u001b[0m\u001b[0mtheta0\u001b[0m\u001b[0;34m,\u001b[0m \u001b[0mcov\u001b[0m\u001b[0;34m,\u001b[0m \u001b[0;36m500\u001b[0m\u001b[0;34m,\u001b[0m \u001b[0mtimes\u001b[0m\u001b[0;34m,\u001b[0m \u001b[0mflux\u001b[0m\u001b[0;34m,\u001b[0m \u001b[0mfluxErr\u001b[0m\u001b[0;34m)\u001b[0m\u001b[0;34m\u001b[0m\u001b[0;34m\u001b[0m\u001b[0m\n\u001b[0m\u001b[1;32m      7\u001b[0m \u001b[0mwandb\u001b[0m\u001b[0;34m.\u001b[0m\u001b[0mfinish\u001b[0m\u001b[0;34m(\u001b[0m\u001b[0;34m)\u001b[0m\u001b[0;34m\u001b[0m\u001b[0;34m\u001b[0m\u001b[0m\n\u001b[1;32m      8\u001b[0m \u001b[0mprint\u001b[0m\u001b[0;34m(\u001b[0m\u001b[0mpositions\u001b[0m\u001b[0;34m[\u001b[0m\u001b[0;34m-\u001b[0m\u001b[0;36m1\u001b[0m\u001b[0;34m]\u001b[0m\u001b[0;34m)\u001b[0m\u001b[0;34m\u001b[0m\u001b[0;34m\u001b[0m\u001b[0m\n",
      "\u001b[0;32m<ipython-input-18-4a04e71a47ba>\u001b[0m in \u001b[0;36mmhMcmc\u001b[0;34m(theta0, cov, steps, times, flux, fluxErr)\u001b[0m\n\u001b[1;32m     12\u001b[0m         \u001b[0mproposal\u001b[0m \u001b[0;34m=\u001b[0m \u001b[0mproposeJump\u001b[0m\u001b[0;34m(\u001b[0m\u001b[0mpositions\u001b[0m\u001b[0;34m[\u001b[0m\u001b[0mstep\u001b[0m \u001b[0;34m-\u001b[0m\u001b[0;36m1\u001b[0m\u001b[0;34m]\u001b[0m\u001b[0;34m,\u001b[0m\u001b[0mcov\u001b[0m\u001b[0;34m)\u001b[0m\u001b[0;34m\u001b[0m\u001b[0;34m\u001b[0m\u001b[0m\n\u001b[1;32m     13\u001b[0m         \u001b[0mlnProb0\u001b[0m \u001b[0;34m=\u001b[0m \u001b[0mlnProbPos\u001b[0m\u001b[0;34m[\u001b[0m\u001b[0mstep\u001b[0m\u001b[0;34m-\u001b[0m\u001b[0;36m1\u001b[0m\u001b[0;34m]\u001b[0m\u001b[0;34m\u001b[0m\u001b[0;34m\u001b[0m\u001b[0m\n\u001b[0;32m---> 14\u001b[0;31m         \u001b[0mlnProb1\u001b[0m \u001b[0;34m=\u001b[0m \u001b[0mlogProbability\u001b[0m\u001b[0;34m(\u001b[0m\u001b[0mproposal\u001b[0m\u001b[0;34m,\u001b[0m\u001b[0mtimes\u001b[0m\u001b[0;34m,\u001b[0m\u001b[0mflux\u001b[0m\u001b[0;34m,\u001b[0m\u001b[0mfluxErr\u001b[0m\u001b[0;34m)\u001b[0m\u001b[0;34m\u001b[0m\u001b[0;34m\u001b[0m\u001b[0m\n\u001b[0m\u001b[1;32m     15\u001b[0m         \u001b[0mratio\u001b[0m \u001b[0;34m=\u001b[0m \u001b[0mnp\u001b[0m\u001b[0;34m.\u001b[0m\u001b[0mexp\u001b[0m\u001b[0;34m(\u001b[0m\u001b[0mlnProb1\u001b[0m \u001b[0;34m-\u001b[0m \u001b[0mlnProb0\u001b[0m\u001b[0;34m)\u001b[0m\u001b[0;34m\u001b[0m\u001b[0;34m\u001b[0m\u001b[0m\n\u001b[1;32m     16\u001b[0m         \u001b[0mr\u001b[0m \u001b[0;34m=\u001b[0m \u001b[0mnp\u001b[0m\u001b[0;34m.\u001b[0m\u001b[0mrandom\u001b[0m\u001b[0;34m.\u001b[0m\u001b[0muniform\u001b[0m\u001b[0;34m(\u001b[0m\u001b[0;34m)\u001b[0m\u001b[0;34m\u001b[0m\u001b[0;34m\u001b[0m\u001b[0m\n",
      "\u001b[0;32m<ipython-input-10-4dd70096f515>\u001b[0m in \u001b[0;36mlogProbability\u001b[0;34m(theta, times, flux, fluxErr)\u001b[0m\n\u001b[1;32m      3\u001b[0m     \u001b[0;32mif\u001b[0m \u001b[0;32mnot\u001b[0m \u001b[0mnp\u001b[0m\u001b[0;34m.\u001b[0m\u001b[0misfinite\u001b[0m\u001b[0;34m(\u001b[0m\u001b[0mlp\u001b[0m\u001b[0;34m)\u001b[0m\u001b[0;34m:\u001b[0m\u001b[0;34m\u001b[0m\u001b[0;34m\u001b[0m\u001b[0m\n\u001b[1;32m      4\u001b[0m         \u001b[0;32mreturn\u001b[0m \u001b[0;34m-\u001b[0m\u001b[0mnp\u001b[0m\u001b[0;34m.\u001b[0m\u001b[0minf\u001b[0m\u001b[0;34m\u001b[0m\u001b[0;34m\u001b[0m\u001b[0m\n\u001b[0;32m----> 5\u001b[0;31m     \u001b[0mll\u001b[0m \u001b[0;34m=\u001b[0m \u001b[0mlogLikelihood\u001b[0m\u001b[0;34m(\u001b[0m\u001b[0mtheta\u001b[0m\u001b[0;34m,\u001b[0m \u001b[0mtimes\u001b[0m\u001b[0;34m,\u001b[0m \u001b[0mflux\u001b[0m\u001b[0;34m,\u001b[0m \u001b[0mfluxErr\u001b[0m\u001b[0;34m)\u001b[0m\u001b[0;34m\u001b[0m\u001b[0;34m\u001b[0m\u001b[0m\n\u001b[0m\u001b[1;32m      6\u001b[0m     \u001b[0;32mreturn\u001b[0m \u001b[0mlp\u001b[0m \u001b[0;34m+\u001b[0m \u001b[0mll\u001b[0m\u001b[0;34m\u001b[0m\u001b[0;34m\u001b[0m\u001b[0m\n",
      "\u001b[0;32m<ipython-input-8-5d30839bd559>\u001b[0m in \u001b[0;36mlogLikelihood\u001b[0;34m(theta, times, flux, fluxErr)\u001b[0m\n\u001b[1;32m      1\u001b[0m \u001b[0;32mdef\u001b[0m \u001b[0mlogLikelihood\u001b[0m\u001b[0;34m(\u001b[0m\u001b[0mtheta\u001b[0m\u001b[0;34m,\u001b[0m \u001b[0mtimes\u001b[0m\u001b[0;34m,\u001b[0m \u001b[0mflux\u001b[0m\u001b[0;34m,\u001b[0m \u001b[0mfluxErr\u001b[0m\u001b[0;34m)\u001b[0m\u001b[0;34m:\u001b[0m\u001b[0;34m\u001b[0m\u001b[0;34m\u001b[0m\u001b[0m\n\u001b[1;32m      2\u001b[0m     \u001b[0msides\u001b[0m\u001b[0;34m,\u001b[0m \u001b[0mradius\u001b[0m\u001b[0;34m,\u001b[0m \u001b[0mrotation\u001b[0m\u001b[0;34m,\u001b[0m \u001b[0mstretch\u001b[0m\u001b[0;34m,\u001b[0m \u001b[0mvelocity\u001b[0m\u001b[0;34m,\u001b[0m \u001b[0mtRef\u001b[0m \u001b[0;34m=\u001b[0m \u001b[0mtheta\u001b[0m\u001b[0;34m\u001b[0m\u001b[0;34m\u001b[0m\u001b[0m\n\u001b[0;32m----> 3\u001b[0;31m     \u001b[0mfluxPredicted\u001b[0m \u001b[0;34m=\u001b[0m \u001b[0mmodel\u001b[0m\u001b[0;34m(\u001b[0m\u001b[0mint\u001b[0m\u001b[0;34m(\u001b[0m\u001b[0msides\u001b[0m\u001b[0;34m)\u001b[0m\u001b[0;34m,\u001b[0m \u001b[0mradius\u001b[0m\u001b[0;34m,\u001b[0m\u001b[0mrotation\u001b[0m\u001b[0;34m,\u001b[0m\u001b[0mstretch\u001b[0m\u001b[0;34m,\u001b[0m\u001b[0mvelocity\u001b[0m\u001b[0;34m,\u001b[0m\u001b[0mtRef\u001b[0m\u001b[0;34m,\u001b[0m\u001b[0mtimes\u001b[0m\u001b[0;34m)\u001b[0m\u001b[0;34m\u001b[0m\u001b[0;34m\u001b[0m\u001b[0m\n\u001b[0m\u001b[1;32m      4\u001b[0m     \u001b[0mlnl\u001b[0m \u001b[0;34m=\u001b[0m \u001b[0;34m-\u001b[0m\u001b[0mnp\u001b[0m\u001b[0;34m.\u001b[0m\u001b[0msum\u001b[0m\u001b[0;34m(\u001b[0m\u001b[0;34m(\u001b[0m\u001b[0;34m(\u001b[0m\u001b[0mflux\u001b[0m \u001b[0;34m-\u001b[0m \u001b[0mfluxPredicted\u001b[0m\u001b[0;34m)\u001b[0m\u001b[0;34m**\u001b[0m\u001b[0;36m2\u001b[0m\u001b[0;34m)\u001b[0m \u001b[0;34m/\u001b[0m\u001b[0;34m(\u001b[0m\u001b[0;36m2\u001b[0m\u001b[0;34m*\u001b[0m\u001b[0mfluxErr\u001b[0m\u001b[0;34m**\u001b[0m\u001b[0;36m2\u001b[0m\u001b[0;34m)\u001b[0m\u001b[0;34m)\u001b[0m\u001b[0;34m\u001b[0m\u001b[0;34m\u001b[0m\u001b[0m\n\u001b[1;32m      5\u001b[0m     \u001b[0;32mreturn\u001b[0m \u001b[0mlnl\u001b[0m\u001b[0;34m\u001b[0m\u001b[0;34m\u001b[0m\u001b[0m\n",
      "\u001b[0;32m<ipython-input-7-c2e64997e730>\u001b[0m in \u001b[0;36mmodel\u001b[0;34m(sides, radius, rotation, stretch, velocity, tRef, times)\u001b[0m\n\u001b[1;32m      8\u001b[0m     \u001b[0mplanetGrid\u001b[0m \u001b[0;34m=\u001b[0m \u001b[0mfillShape\u001b[0m\u001b[0;34m(\u001b[0m\u001b[0mgrid\u001b[0m\u001b[0;34m,\u001b[0m\u001b[0mpointsList\u001b[0m\u001b[0;34m)\u001b[0m\u001b[0;34m\u001b[0m\u001b[0;34m\u001b[0m\u001b[0m\n\u001b[1;32m      9\u001b[0m     \u001b[0mplanet\u001b[0m \u001b[0;34m=\u001b[0m \u001b[0mTransitingImage\u001b[0m\u001b[0;34m(\u001b[0m\u001b[0mopacitymat\u001b[0m \u001b[0;34m=\u001b[0m \u001b[0mplanetGrid\u001b[0m\u001b[0;34m,\u001b[0m \u001b[0mv\u001b[0m \u001b[0;34m=\u001b[0m \u001b[0mvelocity\u001b[0m\u001b[0;34m,\u001b[0m \u001b[0mt_ref\u001b[0m \u001b[0;34m=\u001b[0m \u001b[0mtRef\u001b[0m\u001b[0;34m,\u001b[0m \u001b[0mt_arr\u001b[0m \u001b[0;34m=\u001b[0m \u001b[0mtimes\u001b[0m\u001b[0;34m)\u001b[0m\u001b[0;34m\u001b[0m\u001b[0;34m\u001b[0m\u001b[0m\n\u001b[0;32m---> 10\u001b[0;31m     \u001b[0mplanetLC\u001b[0m\u001b[0;34m,\u001b[0m \u001b[0moverlapTimes\u001b[0m \u001b[0;34m=\u001b[0m \u001b[0mplanet\u001b[0m\u001b[0;34m.\u001b[0m\u001b[0mgen_LC\u001b[0m\u001b[0;34m(\u001b[0m\u001b[0mt_arr\u001b[0m \u001b[0;34m=\u001b[0m \u001b[0mtimes\u001b[0m\u001b[0;34m)\u001b[0m\u001b[0;34m\u001b[0m\u001b[0;34m\u001b[0m\u001b[0m\n\u001b[0m\u001b[1;32m     11\u001b[0m     \u001b[0mplanetLC\u001b[0m\u001b[0;34m,\u001b[0m \u001b[0mtimes\u001b[0m \u001b[0;34m=\u001b[0m \u001b[0mextendLC\u001b[0m\u001b[0;34m(\u001b[0m\u001b[0mplanetLC\u001b[0m\u001b[0;34m,\u001b[0m \u001b[0moverlapTimes\u001b[0m\u001b[0;34m,\u001b[0m \u001b[0mtimes\u001b[0m\u001b[0;34m)\u001b[0m\u001b[0;34m\u001b[0m\u001b[0;34m\u001b[0m\u001b[0m\n\u001b[1;32m     12\u001b[0m     \u001b[0;32mreturn\u001b[0m \u001b[0mplanetLC\u001b[0m\u001b[0;34m\u001b[0m\u001b[0;34m\u001b[0m\u001b[0m\n",
      "\u001b[0;32mEightBitTransit/cTransitingImage.pyx\u001b[0m in \u001b[0;36mEightBitTransit.cTransitingImage.TransitingImage.gen_LC\u001b[0;34m()\u001b[0m\n",
      "\u001b[0;32mEightBitTransit/cGridFunctions.pyx\u001b[0m in \u001b[0;36mEightBitTransit.cGridFunctions.pixeloverlaparea\u001b[0;34m()\u001b[0m\n",
      "\u001b[0;32mEightBitTransit/cGridFunctions.pyx\u001b[0m in \u001b[0;36mEightBitTransit.cGridFunctions.pixeloverlaparea\u001b[0;34m()\u001b[0m\n",
      "\u001b[0;32m<__array_function__ internals>\u001b[0m in \u001b[0;36mamin\u001b[0;34m(*args, **kwargs)\u001b[0m\n",
      "\u001b[0;31mKeyboardInterrupt\u001b[0m: "
     ]
    }
   ],
   "source": [
    "times, flux, fluxErr = getData(\"tesslc_13203100000000\")\n",
    "tRef = np.median(times)\n",
    "theta0= [3, 5, np.pi, 1, 1, tRef]\n",
    "cov = [0.1,0.25,np.pi/48,0.025,0.125,np.std(times)/2]\n",
    "wandb.init(project = \"mcmc\", config={\"Sides\":theta0[0],\"Radius\":cov[1],\"Rotation\":cov[2],\"Stretch\":cov[3],\"Velocity\":cov[4],\"tRef\":cov[5]})\n",
    "positions, lnProbPos, acceptanceRatio = mhMcmc(theta0, cov, 500, times, flux, fluxErr)\n",
    "wandb.finish()\n",
    "print(positions[-1])"
   ]
  },
  {
   "cell_type": "code",
   "execution_count": 103,
   "id": "16080179",
   "metadata": {},
   "outputs": [
    {
     "data": {
      "image/png": "[encoded data removed]",
      "text/plain": [
       "<Figure size 720x864 with 6 Axes>"
      ]
     },
     "metadata": {
      "needs_background": "light"
     },
     "output_type": "display_data"
    }
   ],
   "source": [
    "fig, ax = plt.subplots(6,1, figsize = (10,12))\n",
    "for i in range(6):\n",
    "    ax[i].plot(positions[:,i],'o-')\n",
    "fig.tight_layout()\n",
    "plt.show()\n"
   ]
  },
  {
   "cell_type": "code",
   "execution_count": 104,
   "id": "c0d52d1a",
   "metadata": {},
   "outputs": [
    {
     "data": {
      "image/png": "[encoded data removed]",
      "text/plain": [
       "<Figure size 576x576 with 1 Axes>"
      ]
     },
     "metadata": {
      "needs_background": "light"
     },
     "output_type": "display_data"
    }
   ],
   "source": [
    "sides, radius, rotation, stretch, velocity, tRef = positions[-1]\n",
    "points = generatePoints(int(sides),radius,(1/np.sqrt(stretch))*radius+1,50,rotation,stretch)\n",
    "pointsList = [points]\n",
    "grid = []\n",
    "for i in range(100):\n",
    "    for j in range(int(3*(1/np.sqrt(stretch))*radius + 4)):\n",
    "        grid.append((i,j))\n",
    "planetGrid = fillShape(grid,pointsList)\n",
    "planet = TransitingImage(opacitymat = planetGrid, v = velocity, t_ref = tRef, t_arr = times)\n",
    "planet.plot_grid()"
   ]
  },
  {
   "cell_type": "code",
   "execution_count": 105,
   "id": "335566b0",
   "metadata": {},
   "outputs": [
    {
     "name": "stderr",
     "output_type": "stream",
     "text": [
      "/opt/conda/lib/python3.7/site-packages/ipykernel_launcher.py:1: DeprecationWarning: elementwise comparison failed; this will raise an error in the future.\n",
      "  \"\"\"Entry point for launching an IPython kernel.\n"
     ]
    },
    {
     "data": {
      "image/png": "[encoded data removed]",
      "text/plain": [
       "<Figure size 432x288 with 1 Axes>"
      ]
     },
     "metadata": {
      "needs_background": "light"
     },
     "output_type": "display_data"
    }
   ],
   "source": [
    "planetLC, overlapTimes = planet.gen_LC(t_arr = times)\n",
    "planetLC, newTimes = extendLC(planetLC, overlapTimes, times)\n",
    "fig, ax = plt.subplots()\n",
    "ax.plot(times,flux)\n",
    "ax.plot(times, planetLC)\n",
    "plt.show()"
   ]
  },
  {
   "cell_type": "code",
   "execution_count": null,
   "id": "9e307962",
   "metadata": {},
   "outputs": [],
   "source": []
  }
 ],
 "metadata": {
  "environment": {
   "name": "common-cpu.m65",
   "type": "gcloud",
   "uri": "gcr.io/deeplearning-platform-release/base-cpu:m65"
  },
  "kernelspec": {
   "display_name": "Python [conda env:root] *",
   "language": "python",
   "name": "conda-root-py"
  },
  "language_info": {
   "codemirror_mode": {
    "name": "ipython",
    "version": 3
   },
   "file_extension": ".py",
   "mimetype": "text/x-python",
   "name": "python",
   "nbconvert_exporter": "python",
   "pygments_lexer": "ipython3",
   "version": "3.7.10"
  }
 },
 "nbformat": 4,
 "nbformat_minor": 5
}
